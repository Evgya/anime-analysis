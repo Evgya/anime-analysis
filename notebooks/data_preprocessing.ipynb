{
 "cells": [
  {
   "cell_type": "markdown",
   "id": "1e87787b",
   "metadata": {},
   "source": [
    "## Библиотеки"
   ]
  },
  {
   "cell_type": "code",
   "execution_count": 1,
   "id": "3f4c585b",
   "metadata": {
    "scrolled": true
   },
   "outputs": [
    {
     "name": "stdout",
     "output_type": "stream",
     "text": [
      "Requirement already satisfied: matplotlib==3.7.0 in c:\\users\\evgya\\appdata\\local\\packages\\pythonsoftwarefoundation.python.3.10_qbz5n2kfra8p0\\localcache\\local-packages\\python310\\site-packages (from -r ../requirements.txt (line 1)) (3.7.0)\n",
      "Requirement already satisfied: matplotlib-inline==0.1.6 in c:\\users\\evgya\\appdata\\local\\packages\\pythonsoftwarefoundation.python.3.10_qbz5n2kfra8p0\\localcache\\local-packages\\python310\\site-packages (from -r ../requirements.txt (line 2)) (0.1.6)\n",
      "Requirement already satisfied: numpy==1.24.2 in c:\\users\\evgya\\appdata\\local\\packages\\pythonsoftwarefoundation.python.3.10_qbz5n2kfra8p0\\localcache\\local-packages\\python310\\site-packages (from -r ../requirements.txt (line 3)) (1.24.2)\n",
      "Requirement already satisfied: pandas==1.5.3 in c:\\users\\evgya\\appdata\\local\\packages\\pythonsoftwarefoundation.python.3.10_qbz5n2kfra8p0\\localcache\\local-packages\\python310\\site-packages (from -r ../requirements.txt (line 4)) (1.5.3)\n",
      "Requirement already satisfied: pandasql==0.7.3 in c:\\users\\evgya\\appdata\\local\\packages\\pythonsoftwarefoundation.python.3.10_qbz5n2kfra8p0\\localcache\\local-packages\\python310\\site-packages (from -r ../requirements.txt (line 5)) (0.7.3)\n",
      "Requirement already satisfied: requests==2.31.0 in c:\\users\\evgya\\appdata\\local\\packages\\pythonsoftwarefoundation.python.3.10_qbz5n2kfra8p0\\localcache\\local-packages\\python310\\site-packages (from -r ../requirements.txt (line 6)) (2.31.0)\n",
      "Requirement already satisfied: seaborn==0.12.2 in c:\\users\\evgya\\appdata\\local\\packages\\pythonsoftwarefoundation.python.3.10_qbz5n2kfra8p0\\localcache\\local-packages\\python310\\site-packages (from -r ../requirements.txt (line 7)) (0.12.2)\n",
      "Requirement already satisfied: tqdm==4.66.4 in c:\\users\\evgya\\appdata\\local\\packages\\pythonsoftwarefoundation.python.3.10_qbz5n2kfra8p0\\localcache\\local-packages\\python310\\site-packages (from -r ../requirements.txt (line 8)) (4.66.4)\n",
      "Requirement already satisfied: contourpy>=1.0.1 in c:\\users\\evgya\\appdata\\local\\packages\\pythonsoftwarefoundation.python.3.10_qbz5n2kfra8p0\\localcache\\local-packages\\python310\\site-packages (from matplotlib==3.7.0->-r ../requirements.txt (line 1)) (1.0.7)\n",
      "Requirement already satisfied: cycler>=0.10 in c:\\users\\evgya\\appdata\\local\\packages\\pythonsoftwarefoundation.python.3.10_qbz5n2kfra8p0\\localcache\\local-packages\\python310\\site-packages (from matplotlib==3.7.0->-r ../requirements.txt (line 1)) (0.11.0)\n",
      "Requirement already satisfied: fonttools>=4.22.0 in c:\\users\\evgya\\appdata\\local\\packages\\pythonsoftwarefoundation.python.3.10_qbz5n2kfra8p0\\localcache\\local-packages\\python310\\site-packages (from matplotlib==3.7.0->-r ../requirements.txt (line 1)) (4.38.0)\n",
      "Requirement already satisfied: kiwisolver>=1.0.1 in c:\\users\\evgya\\appdata\\local\\packages\\pythonsoftwarefoundation.python.3.10_qbz5n2kfra8p0\\localcache\\local-packages\\python310\\site-packages (from matplotlib==3.7.0->-r ../requirements.txt (line 1)) (1.4.4)\n",
      "Requirement already satisfied: packaging>=20.0 in c:\\users\\evgya\\appdata\\local\\packages\\pythonsoftwarefoundation.python.3.10_qbz5n2kfra8p0\\localcache\\local-packages\\python310\\site-packages (from matplotlib==3.7.0->-r ../requirements.txt (line 1)) (23.0)\n",
      "Requirement already satisfied: pillow>=6.2.0 in c:\\users\\evgya\\appdata\\local\\packages\\pythonsoftwarefoundation.python.3.10_qbz5n2kfra8p0\\localcache\\local-packages\\python310\\site-packages (from matplotlib==3.7.0->-r ../requirements.txt (line 1)) (9.4.0)\n",
      "Requirement already satisfied: pyparsing>=2.3.1 in c:\\users\\evgya\\appdata\\local\\packages\\pythonsoftwarefoundation.python.3.10_qbz5n2kfra8p0\\localcache\\local-packages\\python310\\site-packages (from matplotlib==3.7.0->-r ../requirements.txt (line 1)) (3.0.9)\n",
      "Requirement already satisfied: python-dateutil>=2.7 in c:\\users\\evgya\\appdata\\local\\packages\\pythonsoftwarefoundation.python.3.10_qbz5n2kfra8p0\\localcache\\local-packages\\python310\\site-packages (from matplotlib==3.7.0->-r ../requirements.txt (line 1)) (2.8.2)\n",
      "Requirement already satisfied: traitlets in c:\\users\\evgya\\appdata\\local\\packages\\pythonsoftwarefoundation.python.3.10_qbz5n2kfra8p0\\localcache\\local-packages\\python310\\site-packages (from matplotlib-inline==0.1.6->-r ../requirements.txt (line 2)) (5.9.0)\n",
      "Requirement already satisfied: pytz>=2020.1 in c:\\users\\evgya\\appdata\\local\\packages\\pythonsoftwarefoundation.python.3.10_qbz5n2kfra8p0\\localcache\\local-packages\\python310\\site-packages (from pandas==1.5.3->-r ../requirements.txt (line 4)) (2022.7.1)\n",
      "Requirement already satisfied: sqlalchemy in c:\\users\\evgya\\appdata\\local\\packages\\pythonsoftwarefoundation.python.3.10_qbz5n2kfra8p0\\localcache\\local-packages\\python310\\site-packages (from pandasql==0.7.3->-r ../requirements.txt (line 5)) (1.4.46)\n",
      "Requirement already satisfied: charset-normalizer<4,>=2 in c:\\users\\evgya\\appdata\\local\\packages\\pythonsoftwarefoundation.python.3.10_qbz5n2kfra8p0\\localcache\\local-packages\\python310\\site-packages (from requests==2.31.0->-r ../requirements.txt (line 6)) (3.2.0)\n",
      "Requirement already satisfied: idna<4,>=2.5 in c:\\users\\evgya\\appdata\\local\\packages\\pythonsoftwarefoundation.python.3.10_qbz5n2kfra8p0\\localcache\\local-packages\\python310\\site-packages (from requests==2.31.0->-r ../requirements.txt (line 6)) (3.4)\n",
      "Requirement already satisfied: urllib3<3,>=1.21.1 in c:\\users\\evgya\\appdata\\local\\packages\\pythonsoftwarefoundation.python.3.10_qbz5n2kfra8p0\\localcache\\local-packages\\python310\\site-packages (from requests==2.31.0->-r ../requirements.txt (line 6)) (2.0.4)\n",
      "Requirement already satisfied: certifi>=2017.4.17 in c:\\users\\evgya\\appdata\\local\\packages\\pythonsoftwarefoundation.python.3.10_qbz5n2kfra8p0\\localcache\\local-packages\\python310\\site-packages (from requests==2.31.0->-r ../requirements.txt (line 6)) (2023.7.22)\n",
      "Requirement already satisfied: colorama in c:\\users\\evgya\\appdata\\local\\packages\\pythonsoftwarefoundation.python.3.10_qbz5n2kfra8p0\\localcache\\local-packages\\python310\\site-packages (from tqdm==4.66.4->-r ../requirements.txt (line 8)) (0.4.6)\n",
      "Requirement already satisfied: six>=1.5 in c:\\users\\evgya\\appdata\\local\\packages\\pythonsoftwarefoundation.python.3.10_qbz5n2kfra8p0\\localcache\\local-packages\\python310\\site-packages (from python-dateutil>=2.7->matplotlib==3.7.0->-r ../requirements.txt (line 1)) (1.16.0)\n",
      "Requirement already satisfied: greenlet!=0.4.17 in c:\\users\\evgya\\appdata\\local\\packages\\pythonsoftwarefoundation.python.3.10_qbz5n2kfra8p0\\localcache\\local-packages\\python310\\site-packages (from sqlalchemy->pandasql==0.7.3->-r ../requirements.txt (line 5)) (3.0.3)\n"
     ]
    }
   ],
   "source": [
    "!pip install -r ../requirements.txt"
   ]
  },
  {
   "cell_type": "code",
   "execution_count": 2,
   "id": "11b8a2bb",
   "metadata": {},
   "outputs": [],
   "source": [
    "import sys\n",
    "import os\n",
    "\n",
    "\n",
    "import pandas as pd\n",
    "import numpy as np\n",
    "\n",
    "import re\n",
    "\n",
    "from tqdm.notebook import tqdm\n",
    "\n",
    "sys.path.append(os.path.abspath(os.path.join('..', 'scripts')))\n",
    "\n",
    "from anime_query import AnimeDetailsQuery\n",
    "from visualization import plot_donut_chart, plot_bar\n"
   ]
  },
  {
   "cell_type": "markdown",
   "id": "4ddcc470",
   "metadata": {},
   "source": [
    "## Доступ к API"
   ]
  },
  {
   "cell_type": "code",
   "execution_count": 3,
   "id": "75d7e1af",
   "metadata": {},
   "outputs": [
    {
     "data": {
      "text/plain": [
       "True"
      ]
     },
     "execution_count": 3,
     "metadata": {},
     "output_type": "execute_result"
    }
   ],
   "source": [
    "from dotenv import load_dotenv\n",
    "load_dotenv()"
   ]
  },
  {
   "cell_type": "code",
   "execution_count": 4,
   "id": "ae9528eb",
   "metadata": {},
   "outputs": [],
   "source": [
    "client_id = os.getenv('CLIENT_ID')\n",
    "anime_details = AnimeDetailsQuery(client_id)"
   ]
  },
  {
   "cell_type": "markdown",
   "id": "06fa7dee",
   "metadata": {},
   "source": [
    "## Данные"
   ]
  },
  {
   "cell_type": "code",
   "execution_count": 5,
   "id": "a9808c1a",
   "metadata": {},
   "outputs": [],
   "source": [
    "data = pd.read_csv('../data/raw/Top_Anime_data.csv')"
   ]
  },
  {
   "cell_type": "markdown",
   "id": "d50ed1e4",
   "metadata": {},
   "source": [
    "## Предварительная обработка данных"
   ]
  },
  {
   "cell_type": "code",
   "execution_count": 6,
   "id": "e2db8fad",
   "metadata": {},
   "outputs": [
    {
     "data": {
      "text/html": [
       "<div>\n",
       "<style scoped>\n",
       "    .dataframe tbody tr th:only-of-type {\n",
       "        vertical-align: middle;\n",
       "    }\n",
       "\n",
       "    .dataframe tbody tr th {\n",
       "        vertical-align: top;\n",
       "    }\n",
       "\n",
       "    .dataframe thead th {\n",
       "        text-align: right;\n",
       "    }\n",
       "</style>\n",
       "<table border=\"1\" class=\"dataframe\">\n",
       "  <thead>\n",
       "    <tr style=\"text-align: right;\">\n",
       "      <th></th>\n",
       "      <th>Score</th>\n",
       "      <th>Popularity</th>\n",
       "      <th>Rank</th>\n",
       "      <th>Members</th>\n",
       "      <th>Description</th>\n",
       "      <th>Synonyms</th>\n",
       "      <th>Japanese</th>\n",
       "      <th>English</th>\n",
       "      <th>Type</th>\n",
       "      <th>Episodes</th>\n",
       "      <th>...</th>\n",
       "      <th>Premiered</th>\n",
       "      <th>Broadcast</th>\n",
       "      <th>Producers</th>\n",
       "      <th>Licensors</th>\n",
       "      <th>Studios</th>\n",
       "      <th>Source</th>\n",
       "      <th>Genres</th>\n",
       "      <th>Demographic</th>\n",
       "      <th>Duration</th>\n",
       "      <th>Rating</th>\n",
       "    </tr>\n",
       "  </thead>\n",
       "  <tbody>\n",
       "    <tr>\n",
       "      <th>0</th>\n",
       "      <td>9.38</td>\n",
       "      <td>284</td>\n",
       "      <td>1</td>\n",
       "      <td>710</td>\n",
       "      <td>During their decade-long quest to defeat the D...</td>\n",
       "      <td>Frieren at the Funeral</td>\n",
       "      <td>葬送のフリーレン</td>\n",
       "      <td>Frieren: Beyond Journey's End</td>\n",
       "      <td>TV</td>\n",
       "      <td>28</td>\n",
       "      <td>...</td>\n",
       "      <td>Fall 2023</td>\n",
       "      <td>Fridays at 23:00 (JST)</td>\n",
       "      <td>Aniplex, Dentsu, Shogakukan-Shueisha Productio...</td>\n",
       "      <td>None found, add some</td>\n",
       "      <td>Madhouse</td>\n",
       "      <td>Manga</td>\n",
       "      <td>AdventureAdventure, DramaDrama, FantasyFantasy</td>\n",
       "      <td>ShounenShounen</td>\n",
       "      <td>24 min. per ep.</td>\n",
       "      <td>PG-13 - Teens 13 or older</td>\n",
       "    </tr>\n",
       "    <tr>\n",
       "      <th>1</th>\n",
       "      <td>9.09</td>\n",
       "      <td>3</td>\n",
       "      <td>2</td>\n",
       "      <td>3</td>\n",
       "      <td>After a horrific alchemy experiment goes wrong...</td>\n",
       "      <td>Hagane no Renkinjutsushi: Fullmetal Alchemist,...</td>\n",
       "      <td>鋼の錬金術師 FULLMETAL ALCHEMIST</td>\n",
       "      <td>Fullmetal Alchemist: Brotherhood</td>\n",
       "      <td>TV</td>\n",
       "      <td>64</td>\n",
       "      <td>...</td>\n",
       "      <td>Spring 2009</td>\n",
       "      <td>Sundays at 17:00 (JST)</td>\n",
       "      <td>Aniplex, Square Enix, Mainichi Broadcasting Sy...</td>\n",
       "      <td>Funimation, Aniplex of America</td>\n",
       "      <td>Bones</td>\n",
       "      <td>Manga</td>\n",
       "      <td>ActionAction, AdventureAdventure, DramaDrama, ...</td>\n",
       "      <td>ShounenShounen</td>\n",
       "      <td>24 min. per ep.</td>\n",
       "      <td>R - 17+ (violence &amp; profanity)</td>\n",
       "    </tr>\n",
       "    <tr>\n",
       "      <th>2</th>\n",
       "      <td>9.07</td>\n",
       "      <td>13</td>\n",
       "      <td>3</td>\n",
       "      <td>2</td>\n",
       "      <td>Eccentric scientist Rintarou Okabe has a never...</td>\n",
       "      <td>NaN</td>\n",
       "      <td>STEINS;GATE</td>\n",
       "      <td>Steins;Gate</td>\n",
       "      <td>TV</td>\n",
       "      <td>24</td>\n",
       "      <td>...</td>\n",
       "      <td>Spring 2011</td>\n",
       "      <td>Wednesdays at 02:05 (JST)</td>\n",
       "      <td>Frontier Works, Media Factory, Kadokawa Shoten...</td>\n",
       "      <td>Funimation</td>\n",
       "      <td>White Fox</td>\n",
       "      <td>Visual novel</td>\n",
       "      <td>DramaDrama, Sci-FiSci-Fi, SuspenseSuspense</td>\n",
       "      <td>NaN</td>\n",
       "      <td>24 min. per ep.</td>\n",
       "      <td>PG-13 - Teens 13 or older</td>\n",
       "    </tr>\n",
       "    <tr>\n",
       "      <th>3</th>\n",
       "      <td>9.06</td>\n",
       "      <td>342</td>\n",
       "      <td>4</td>\n",
       "      <td>630</td>\n",
       "      <td>Gintoki, Shinpachi, and Kagura return as the f...</td>\n",
       "      <td>Gintama' (2015)</td>\n",
       "      <td>銀魂°</td>\n",
       "      <td>Gintama Season 4</td>\n",
       "      <td>TV</td>\n",
       "      <td>51</td>\n",
       "      <td>...</td>\n",
       "      <td>Spring 2015</td>\n",
       "      <td>Wednesdays at 18:00 (JST)</td>\n",
       "      <td>TV Tokyo, Aniplex, Dentsu</td>\n",
       "      <td>Funimation, Crunchyroll</td>\n",
       "      <td>Bandai Namco Pictures</td>\n",
       "      <td>Manga</td>\n",
       "      <td>ActionAction, ComedyComedy, Sci-FiSci-Fi</td>\n",
       "      <td>ShounenShounen</td>\n",
       "      <td>24 min. per ep.</td>\n",
       "      <td>PG-13 - Teens 13 or older</td>\n",
       "    </tr>\n",
       "    <tr>\n",
       "      <th>4</th>\n",
       "      <td>9.05</td>\n",
       "      <td>21</td>\n",
       "      <td>5</td>\n",
       "      <td>2</td>\n",
       "      <td>Seeking to restore humanity's diminishing hope...</td>\n",
       "      <td>NaN</td>\n",
       "      <td>進撃の巨人 Season3 Part.2</td>\n",
       "      <td>Attack on Titan Season 3 Part 2</td>\n",
       "      <td>TV</td>\n",
       "      <td>10</td>\n",
       "      <td>...</td>\n",
       "      <td>Spring 2019</td>\n",
       "      <td>Mondays at 00:10 (JST)</td>\n",
       "      <td>Production I.G, Dentsu, Mainichi Broadcasting ...</td>\n",
       "      <td>Funimation</td>\n",
       "      <td>Wit Studio</td>\n",
       "      <td>Manga</td>\n",
       "      <td>ActionAction, DramaDrama, SuspenseSuspense</td>\n",
       "      <td>ShounenShounen</td>\n",
       "      <td>23 min. per ep.</td>\n",
       "      <td>R - 17+ (violence &amp; profanity)</td>\n",
       "    </tr>\n",
       "  </tbody>\n",
       "</table>\n",
       "<p>5 rows × 22 columns</p>\n",
       "</div>"
      ],
      "text/plain": [
       "   Score  Popularity  Rank  Members  \\\n",
       "0   9.38         284     1      710   \n",
       "1   9.09           3     2        3   \n",
       "2   9.07          13     3        2   \n",
       "3   9.06         342     4      630   \n",
       "4   9.05          21     5        2   \n",
       "\n",
       "                                         Description  \\\n",
       "0  During their decade-long quest to defeat the D...   \n",
       "1  After a horrific alchemy experiment goes wrong...   \n",
       "2  Eccentric scientist Rintarou Okabe has a never...   \n",
       "3  Gintoki, Shinpachi, and Kagura return as the f...   \n",
       "4  Seeking to restore humanity's diminishing hope...   \n",
       "\n",
       "                                            Synonyms  \\\n",
       "0                             Frieren at the Funeral   \n",
       "1  Hagane no Renkinjutsushi: Fullmetal Alchemist,...   \n",
       "2                                                NaN   \n",
       "3                                    Gintama' (2015)   \n",
       "4                                                NaN   \n",
       "\n",
       "                     Japanese                           English Type Episodes  \\\n",
       "0                    葬送のフリーレン     Frieren: Beyond Journey's End   TV       28   \n",
       "1  鋼の錬金術師 FULLMETAL ALCHEMIST  Fullmetal Alchemist: Brotherhood   TV       64   \n",
       "2                 STEINS;GATE                       Steins;Gate   TV       24   \n",
       "3                         銀魂°                  Gintama Season 4   TV       51   \n",
       "4        進撃の巨人 Season3 Part.2   Attack on Titan Season 3 Part 2   TV       10   \n",
       "\n",
       "   ...    Premiered                  Broadcast  \\\n",
       "0  ...    Fall 2023     Fridays at 23:00 (JST)   \n",
       "1  ...  Spring 2009     Sundays at 17:00 (JST)   \n",
       "2  ...  Spring 2011  Wednesdays at 02:05 (JST)   \n",
       "3  ...  Spring 2015  Wednesdays at 18:00 (JST)   \n",
       "4  ...  Spring 2019     Mondays at 00:10 (JST)   \n",
       "\n",
       "                                           Producers  \\\n",
       "0  Aniplex, Dentsu, Shogakukan-Shueisha Productio...   \n",
       "1  Aniplex, Square Enix, Mainichi Broadcasting Sy...   \n",
       "2  Frontier Works, Media Factory, Kadokawa Shoten...   \n",
       "3                          TV Tokyo, Aniplex, Dentsu   \n",
       "4  Production I.G, Dentsu, Mainichi Broadcasting ...   \n",
       "\n",
       "                        Licensors                Studios        Source  \\\n",
       "0            None found, add some               Madhouse         Manga   \n",
       "1  Funimation, Aniplex of America                  Bones         Manga   \n",
       "2                      Funimation              White Fox  Visual novel   \n",
       "3         Funimation, Crunchyroll  Bandai Namco Pictures         Manga   \n",
       "4                      Funimation             Wit Studio         Manga   \n",
       "\n",
       "                                              Genres     Demographic  \\\n",
       "0     AdventureAdventure, DramaDrama, FantasyFantasy  ShounenShounen   \n",
       "1  ActionAction, AdventureAdventure, DramaDrama, ...  ShounenShounen   \n",
       "2         DramaDrama, Sci-FiSci-Fi, SuspenseSuspense             NaN   \n",
       "3           ActionAction, ComedyComedy, Sci-FiSci-Fi  ShounenShounen   \n",
       "4         ActionAction, DramaDrama, SuspenseSuspense  ShounenShounen   \n",
       "\n",
       "          Duration                          Rating  \n",
       "0  24 min. per ep.       PG-13 - Teens 13 or older  \n",
       "1  24 min. per ep.  R - 17+ (violence & profanity)  \n",
       "2  24 min. per ep.       PG-13 - Teens 13 or older  \n",
       "3  24 min. per ep.       PG-13 - Teens 13 or older  \n",
       "4  23 min. per ep.  R - 17+ (violence & profanity)  \n",
       "\n",
       "[5 rows x 22 columns]"
      ]
     },
     "execution_count": 6,
     "metadata": {},
     "output_type": "execute_result"
    }
   ],
   "source": [
    "data.head(5)"
   ]
  },
  {
   "cell_type": "code",
   "execution_count": 7,
   "id": "d0cea296",
   "metadata": {},
   "outputs": [
    {
     "data": {
      "text/plain": [
       "Index(['Score', 'Popularity', 'Rank', 'Members', 'Description', 'Synonyms',\n",
       "       'Japanese', 'English', 'Type', 'Episodes', 'Status', 'Aired',\n",
       "       'Premiered', 'Broadcast', 'Producers', 'Licensors', 'Studios', 'Source',\n",
       "       'Genres', 'Demographic', 'Duration', 'Rating'],\n",
       "      dtype='object')"
      ]
     },
     "execution_count": 7,
     "metadata": {},
     "output_type": "execute_result"
    }
   ],
   "source": [
    "data.columns"
   ]
  },
  {
   "cell_type": "code",
   "execution_count": 8,
   "id": "1ec443b9",
   "metadata": {},
   "outputs": [
    {
     "data": {
      "text/plain": [
       "(1000, 22)"
      ]
     },
     "execution_count": 8,
     "metadata": {},
     "output_type": "execute_result"
    }
   ],
   "source": [
    "data.shape"
   ]
  },
  {
   "cell_type": "markdown",
   "id": "09a3a37b",
   "metadata": {},
   "source": [
    "### Типы данных"
   ]
  },
  {
   "cell_type": "code",
   "execution_count": 9,
   "id": "a20a47cb",
   "metadata": {},
   "outputs": [
    {
     "name": "stdout",
     "output_type": "stream",
     "text": [
      "<class 'pandas.core.frame.DataFrame'>\n",
      "RangeIndex: 1000 entries, 0 to 999\n",
      "Data columns (total 22 columns):\n",
      " #   Column       Non-Null Count  Dtype  \n",
      "---  ------       --------------  -----  \n",
      " 0   Score        1000 non-null   float64\n",
      " 1   Popularity   1000 non-null   int64  \n",
      " 2   Rank         1000 non-null   int64  \n",
      " 3   Members      1000 non-null   int64  \n",
      " 4   Description  1000 non-null   object \n",
      " 5   Synonyms     709 non-null    object \n",
      " 6   Japanese     999 non-null    object \n",
      " 7   English      859 non-null    object \n",
      " 8   Type         1000 non-null   object \n",
      " 9   Episodes     1000 non-null   object \n",
      " 10  Status       1000 non-null   object \n",
      " 11  Aired        1000 non-null   object \n",
      " 12  Premiered    569 non-null    object \n",
      " 13  Broadcast    569 non-null    object \n",
      " 14  Producers    1000 non-null   object \n",
      " 15  Licensors    1000 non-null   object \n",
      " 16  Studios      1000 non-null   object \n",
      " 17  Source       1000 non-null   object \n",
      " 18  Genres       771 non-null    object \n",
      " 19  Demographic  521 non-null    object \n",
      " 20  Duration     1000 non-null   object \n",
      " 21  Rating       1000 non-null   object \n",
      "dtypes: float64(1), int64(3), object(18)\n",
      "memory usage: 172.0+ KB\n"
     ]
    }
   ],
   "source": [
    "data.info()"
   ]
  },
  {
   "cell_type": "markdown",
   "id": "c09b96d8",
   "metadata": {},
   "source": [
    "##### Колонки: Score, Popularity, Rank, Members"
   ]
  },
  {
   "cell_type": "code",
   "execution_count": 10,
   "id": "0d7fc318",
   "metadata": {},
   "outputs": [
    {
     "data": {
      "text/html": [
       "<div>\n",
       "<style scoped>\n",
       "    .dataframe tbody tr th:only-of-type {\n",
       "        vertical-align: middle;\n",
       "    }\n",
       "\n",
       "    .dataframe tbody tr th {\n",
       "        vertical-align: top;\n",
       "    }\n",
       "\n",
       "    .dataframe thead th {\n",
       "        text-align: right;\n",
       "    }\n",
       "</style>\n",
       "<table border=\"1\" class=\"dataframe\">\n",
       "  <thead>\n",
       "    <tr style=\"text-align: right;\">\n",
       "      <th></th>\n",
       "      <th>Score</th>\n",
       "      <th>Popularity</th>\n",
       "      <th>Rank</th>\n",
       "      <th>Members</th>\n",
       "      <th>Description</th>\n",
       "      <th>Synonyms</th>\n",
       "      <th>Japanese</th>\n",
       "      <th>English</th>\n",
       "      <th>Type</th>\n",
       "      <th>Episodes</th>\n",
       "      <th>...</th>\n",
       "      <th>Premiered</th>\n",
       "      <th>Broadcast</th>\n",
       "      <th>Producers</th>\n",
       "      <th>Licensors</th>\n",
       "      <th>Studios</th>\n",
       "      <th>Source</th>\n",
       "      <th>Genres</th>\n",
       "      <th>Demographic</th>\n",
       "      <th>Duration</th>\n",
       "      <th>Rating</th>\n",
       "    </tr>\n",
       "  </thead>\n",
       "  <tbody>\n",
       "  </tbody>\n",
       "</table>\n",
       "<p>0 rows × 22 columns</p>\n",
       "</div>"
      ],
      "text/plain": [
       "Empty DataFrame\n",
       "Columns: [Score, Popularity, Rank, Members, Description, Synonyms, Japanese, English, Type, Episodes, Status, Aired, Premiered, Broadcast, Producers, Licensors, Studios, Source, Genres, Demographic, Duration, Rating]\n",
       "Index: []\n",
       "\n",
       "[0 rows x 22 columns]"
      ]
     },
     "execution_count": 10,
     "metadata": {},
     "output_type": "execute_result"
    }
   ],
   "source": [
    "mask = (data.Score <= 0) | (data.Popularity <= 0) | (data.Rank <= 0) | (data.Members <= 0)\n",
    "data[mask]"
   ]
  },
  {
   "cell_type": "code",
   "execution_count": 11,
   "id": "def56cec",
   "metadata": {},
   "outputs": [],
   "source": [
    "data['Rank'] = pd.Categorical(data['Rank'], ordered=True)"
   ]
  },
  {
   "cell_type": "markdown",
   "id": "75ac3ab9",
   "metadata": {},
   "source": [
    "##### Колонки: Description, Synonyms, Japanese, English"
   ]
  },
  {
   "cell_type": "code",
   "execution_count": 12,
   "id": "c23494e2",
   "metadata": {},
   "outputs": [
    {
     "data": {
      "text/html": [
       "<div>\n",
       "<style scoped>\n",
       "    .dataframe tbody tr th:only-of-type {\n",
       "        vertical-align: middle;\n",
       "    }\n",
       "\n",
       "    .dataframe tbody tr th {\n",
       "        vertical-align: top;\n",
       "    }\n",
       "\n",
       "    .dataframe thead th {\n",
       "        text-align: right;\n",
       "    }\n",
       "</style>\n",
       "<table border=\"1\" class=\"dataframe\">\n",
       "  <thead>\n",
       "    <tr style=\"text-align: right;\">\n",
       "      <th></th>\n",
       "      <th>Score</th>\n",
       "      <th>Popularity</th>\n",
       "      <th>Rank</th>\n",
       "      <th>Members</th>\n",
       "      <th>Description</th>\n",
       "      <th>Synonyms</th>\n",
       "      <th>Japanese</th>\n",
       "      <th>English</th>\n",
       "      <th>Type</th>\n",
       "      <th>Episodes</th>\n",
       "      <th>...</th>\n",
       "      <th>Premiered</th>\n",
       "      <th>Broadcast</th>\n",
       "      <th>Producers</th>\n",
       "      <th>Licensors</th>\n",
       "      <th>Studios</th>\n",
       "      <th>Source</th>\n",
       "      <th>Genres</th>\n",
       "      <th>Demographic</th>\n",
       "      <th>Duration</th>\n",
       "      <th>Rating</th>\n",
       "    </tr>\n",
       "  </thead>\n",
       "  <tbody>\n",
       "    <tr>\n",
       "      <th>35</th>\n",
       "      <td>8.79</td>\n",
       "      <td>3426</td>\n",
       "      <td>36</td>\n",
       "      <td>42</td>\n",
       "      <td>Shohoku's \"speedster\" and point guard, Ryouta ...</td>\n",
       "      <td>NaN</td>\n",
       "      <td>THE FIRST SLAM DUNK</td>\n",
       "      <td>NaN</td>\n",
       "      <td>Movie</td>\n",
       "      <td>1</td>\n",
       "      <td>...</td>\n",
       "      <td>NaN</td>\n",
       "      <td>NaN</td>\n",
       "      <td>Shueisha</td>\n",
       "      <td>GKIDS</td>\n",
       "      <td>Toei Animation, DandeLion Animation Studio</td>\n",
       "      <td>Manga</td>\n",
       "      <td>Award WinningAward Winning, SportsSports</td>\n",
       "      <td>ShounenShounen</td>\n",
       "      <td>2 hr. 4 min.</td>\n",
       "      <td>PG-13 - Teens 13 or older</td>\n",
       "    </tr>\n",
       "    <tr>\n",
       "      <th>46</th>\n",
       "      <td>8.75</td>\n",
       "      <td>75</td>\n",
       "      <td>47</td>\n",
       "      <td>1</td>\n",
       "      <td>Young Thorfinn grew up listening to the storie...</td>\n",
       "      <td>NaN</td>\n",
       "      <td>ヴィンランド・サガ</td>\n",
       "      <td>NaN</td>\n",
       "      <td>TV</td>\n",
       "      <td>24</td>\n",
       "      <td>...</td>\n",
       "      <td>Summer 2019</td>\n",
       "      <td>Mondays at 00:10 (JST)</td>\n",
       "      <td>Production I.G, Dentsu, Kodansha, Twin Engine</td>\n",
       "      <td>Sentai Filmworks</td>\n",
       "      <td>Wit Studio</td>\n",
       "      <td>Manga</td>\n",
       "      <td>ActionAction, AdventureAdventure, DramaDrama</td>\n",
       "      <td>SeinenSeinen</td>\n",
       "      <td>24 min. per ep.</td>\n",
       "      <td>R - 17+ (violence &amp; profanity)</td>\n",
       "    </tr>\n",
       "    <tr>\n",
       "      <th>87</th>\n",
       "      <td>8.60</td>\n",
       "      <td>265</td>\n",
       "      <td>88</td>\n",
       "      <td>742</td>\n",
       "      <td>Dreams are doomed to die in Night City, a futu...</td>\n",
       "      <td>NaN</td>\n",
       "      <td>サイバーパンク エッジランナーズ</td>\n",
       "      <td>NaN</td>\n",
       "      <td>ONA</td>\n",
       "      <td>10</td>\n",
       "      <td>...</td>\n",
       "      <td>NaN</td>\n",
       "      <td>NaN</td>\n",
       "      <td>CD Projekt Red</td>\n",
       "      <td>None found, add some</td>\n",
       "      <td>Trigger</td>\n",
       "      <td>Game</td>\n",
       "      <td>ActionAction, Sci-FiSci-Fi</td>\n",
       "      <td>NaN</td>\n",
       "      <td>25 min. per ep.</td>\n",
       "      <td>R+ - Mild Nudity</td>\n",
       "    </tr>\n",
       "    <tr>\n",
       "      <th>90</th>\n",
       "      <td>8.59</td>\n",
       "      <td>1735</td>\n",
       "      <td>91</td>\n",
       "      <td>128</td>\n",
       "      <td>On a warm summer day, a boy heard the sound of...</td>\n",
       "      <td>Mushishi Tokubetsu-hen: Suzu no Shizuku, Mushi...</td>\n",
       "      <td>蟲師 続章: 鈴の雫</td>\n",
       "      <td>NaN</td>\n",
       "      <td>Movie</td>\n",
       "      <td>1</td>\n",
       "      <td>...</td>\n",
       "      <td>NaN</td>\n",
       "      <td>NaN</td>\n",
       "      <td>Aniplex, Kodansha, Delfi Sound</td>\n",
       "      <td>None found, add some</td>\n",
       "      <td>Artland</td>\n",
       "      <td>Manga</td>\n",
       "      <td>AdventureAdventure, MysteryMystery, Slice of L...</td>\n",
       "      <td>SeinenSeinen</td>\n",
       "      <td>47 min.</td>\n",
       "      <td>PG-13 - Teens 13 or older</td>\n",
       "    </tr>\n",
       "    <tr>\n",
       "      <th>114</th>\n",
       "      <td>8.53</td>\n",
       "      <td>70</td>\n",
       "      <td>115</td>\n",
       "      <td>1</td>\n",
       "      <td>Corrupt politicians, frenzied nationalists, an...</td>\n",
       "      <td>NaN</td>\n",
       "      <td>SPY×FAMILY</td>\n",
       "      <td>NaN</td>\n",
       "      <td>TV</td>\n",
       "      <td>12</td>\n",
       "      <td>...</td>\n",
       "      <td>Spring 2022</td>\n",
       "      <td>Saturdays at 23:00 (JST)</td>\n",
       "      <td>TV Tokyo, Shogakukan-Shueisha Productions, TOH...</td>\n",
       "      <td>Funimation</td>\n",
       "      <td>Wit Studio, CloverWorks</td>\n",
       "      <td>Manga</td>\n",
       "      <td>ActionAction, Award WinningAward Winning, Come...</td>\n",
       "      <td>ShounenShounen</td>\n",
       "      <td>24 min. per ep.</td>\n",
       "      <td>PG-13 - Teens 13 or older</td>\n",
       "    </tr>\n",
       "  </tbody>\n",
       "</table>\n",
       "<p>5 rows × 22 columns</p>\n",
       "</div>"
      ],
      "text/plain": [
       "     Score  Popularity Rank  Members  \\\n",
       "35    8.79        3426   36       42   \n",
       "46    8.75          75   47        1   \n",
       "87    8.60         265   88      742   \n",
       "90    8.59        1735   91      128   \n",
       "114   8.53          70  115        1   \n",
       "\n",
       "                                           Description  \\\n",
       "35   Shohoku's \"speedster\" and point guard, Ryouta ...   \n",
       "46   Young Thorfinn grew up listening to the storie...   \n",
       "87   Dreams are doomed to die in Night City, a futu...   \n",
       "90   On a warm summer day, a boy heard the sound of...   \n",
       "114  Corrupt politicians, frenzied nationalists, an...   \n",
       "\n",
       "                                              Synonyms             Japanese  \\\n",
       "35                                                 NaN  THE FIRST SLAM DUNK   \n",
       "46                                                 NaN            ヴィンランド・サガ   \n",
       "87                                                 NaN     サイバーパンク エッジランナーズ   \n",
       "90   Mushishi Tokubetsu-hen: Suzu no Shizuku, Mushi...           蟲師 続章: 鈴の雫   \n",
       "114                                                NaN           SPY×FAMILY   \n",
       "\n",
       "    English   Type Episodes  ...    Premiered                 Broadcast  \\\n",
       "35      NaN  Movie        1  ...          NaN                       NaN   \n",
       "46      NaN     TV       24  ...  Summer 2019    Mondays at 00:10 (JST)   \n",
       "87      NaN    ONA       10  ...          NaN                       NaN   \n",
       "90      NaN  Movie        1  ...          NaN                       NaN   \n",
       "114     NaN     TV       12  ...  Spring 2022  Saturdays at 23:00 (JST)   \n",
       "\n",
       "                                             Producers             Licensors  \\\n",
       "35                                            Shueisha                 GKIDS   \n",
       "46       Production I.G, Dentsu, Kodansha, Twin Engine      Sentai Filmworks   \n",
       "87                                      CD Projekt Red  None found, add some   \n",
       "90                      Aniplex, Kodansha, Delfi Sound  None found, add some   \n",
       "114  TV Tokyo, Shogakukan-Shueisha Productions, TOH...            Funimation   \n",
       "\n",
       "                                        Studios Source  \\\n",
       "35   Toei Animation, DandeLion Animation Studio  Manga   \n",
       "46                                   Wit Studio  Manga   \n",
       "87                                      Trigger   Game   \n",
       "90                                      Artland  Manga   \n",
       "114                     Wit Studio, CloverWorks  Manga   \n",
       "\n",
       "                                                Genres     Demographic  \\\n",
       "35            Award WinningAward Winning, SportsSports  ShounenShounen   \n",
       "46        ActionAction, AdventureAdventure, DramaDrama    SeinenSeinen   \n",
       "87                          ActionAction, Sci-FiSci-Fi             NaN   \n",
       "90   AdventureAdventure, MysteryMystery, Slice of L...    SeinenSeinen   \n",
       "114  ActionAction, Award WinningAward Winning, Come...  ShounenShounen   \n",
       "\n",
       "            Duration                          Rating  \n",
       "35      2 hr. 4 min.       PG-13 - Teens 13 or older  \n",
       "46   24 min. per ep.  R - 17+ (violence & profanity)  \n",
       "87   25 min. per ep.                R+ - Mild Nudity  \n",
       "90           47 min.       PG-13 - Teens 13 or older  \n",
       "114  24 min. per ep.       PG-13 - Teens 13 or older  \n",
       "\n",
       "[5 rows x 22 columns]"
      ]
     },
     "execution_count": 12,
     "metadata": {},
     "output_type": "execute_result"
    }
   ],
   "source": [
    "mask = data['English'].isna() & (~data['Japanese'].isna())\n",
    "data[mask].head()"
   ]
  },
  {
   "cell_type": "markdown",
   "id": "be4885b5",
   "metadata": {},
   "source": [
    "Много пропусков в английских названиях, и при этом почти нет пропусков в японских названиях. Восстановим английские названия по японским с помощью запросов к myanimelist.net."
   ]
  },
  {
   "cell_type": "code",
   "execution_count": 13,
   "id": "64c6ac3e",
   "metadata": {},
   "outputs": [
    {
     "data": {
      "application/vnd.jupyter.widget-view+json": {
       "model_id": "6dd4c326b4c44a4c929d0a59b4c2f177",
       "version_major": 2,
       "version_minor": 0
      },
      "text/plain": [
       "Getting english name:   0%|          | 0/140 [00:00<?, ?it/s]"
      ]
     },
     "metadata": {},
     "output_type": "display_data"
    },
    {
     "data": {
      "application/vnd.jupyter.widget-view+json": {
       "model_id": "28937e1ada9c44e9ab41abe1096ab327",
       "version_major": 2,
       "version_minor": 0
      },
      "text/plain": [
       "Getting english name:   0%|          | 0/5 [00:00<?, ?it/s]"
      ]
     },
     "metadata": {},
     "output_type": "display_data"
    }
   ],
   "source": [
    "for _ in range(2):\n",
    "    mask = data['English'].isna() & (~data['Japanese'].isna())\n",
    "    english_names = pd.Series(\n",
    "        [\n",
    "            anime_details.get_anime_name(japanese_name)\n",
    "            for japanese_name in tqdm(\n",
    "                data.loc[mask, 'Japanese'], desc='Getting english name'\n",
    "            )\n",
    "        ]\n",
    "    )\n",
    "    data.loc[mask, 'English'] = english_names.values"
   ]
  },
  {
   "cell_type": "code",
   "execution_count": 14,
   "id": "c66be931",
   "metadata": {},
   "outputs": [
    {
     "data": {
      "text/html": [
       "<div>\n",
       "<style scoped>\n",
       "    .dataframe tbody tr th:only-of-type {\n",
       "        vertical-align: middle;\n",
       "    }\n",
       "\n",
       "    .dataframe tbody tr th {\n",
       "        vertical-align: top;\n",
       "    }\n",
       "\n",
       "    .dataframe thead th {\n",
       "        text-align: right;\n",
       "    }\n",
       "</style>\n",
       "<table border=\"1\" class=\"dataframe\">\n",
       "  <thead>\n",
       "    <tr style=\"text-align: right;\">\n",
       "      <th></th>\n",
       "      <th>Description</th>\n",
       "      <th>Synonyms</th>\n",
       "      <th>Japanese</th>\n",
       "    </tr>\n",
       "  </thead>\n",
       "  <tbody>\n",
       "    <tr>\n",
       "      <th>369</th>\n",
       "      <td>A series of unfortunate events has led Makoto ...</td>\n",
       "      <td>NaN</td>\n",
       "      <td>NaN</td>\n",
       "    </tr>\n",
       "    <tr>\n",
       "      <th>457</th>\n",
       "      <td>On Christmas Eve, four-year-old Miri Unasaka a...</td>\n",
       "      <td>NaN</td>\n",
       "      <td>Buddy Daddies</td>\n",
       "    </tr>\n",
       "    <tr>\n",
       "      <th>462</th>\n",
       "      <td>The band \"given\"—comprised of Ritsuka Uenoyama...</td>\n",
       "      <td>Eiga Given</td>\n",
       "      <td>映画 ギヴン</td>\n",
       "    </tr>\n",
       "    <tr>\n",
       "      <th>546</th>\n",
       "      <td>With her ability to read minds, Anya Forger is...</td>\n",
       "      <td>NaN</td>\n",
       "      <td>SPY×FAMILY Season 2</td>\n",
       "    </tr>\n",
       "    <tr>\n",
       "      <th>769</th>\n",
       "      <td>Underneath the bright city lights lies a blood...</td>\n",
       "      <td>NaN</td>\n",
       "      <td>MIGNON 민용</td>\n",
       "    </tr>\n",
       "    <tr>\n",
       "      <th>782</th>\n",
       "      <td>It is said that fireworks can calm the souls o...</td>\n",
       "      <td>Project Common</td>\n",
       "      <td>サマーゴースト</td>\n",
       "    </tr>\n",
       "  </tbody>\n",
       "</table>\n",
       "</div>"
      ],
      "text/plain": [
       "                                           Description        Synonyms  \\\n",
       "369  A series of unfortunate events has led Makoto ...             NaN   \n",
       "457  On Christmas Eve, four-year-old Miri Unasaka a...             NaN   \n",
       "462  The band \"given\"—comprised of Ritsuka Uenoyama...      Eiga Given   \n",
       "546  With her ability to read minds, Anya Forger is...             NaN   \n",
       "769  Underneath the bright city lights lies a blood...             NaN   \n",
       "782  It is said that fireworks can calm the souls o...  Project Common   \n",
       "\n",
       "                Japanese  \n",
       "369                  NaN  \n",
       "457        Buddy Daddies  \n",
       "462               映画 ギヴン  \n",
       "546  SPY×FAMILY Season 2  \n",
       "769            MIGNON 민용  \n",
       "782              サマーゴースト  "
      ]
     },
     "execution_count": 14,
     "metadata": {},
     "output_type": "execute_result"
    }
   ],
   "source": [
    "data.loc[data['English'].isna(), ['Description', 'Synonyms', 'Japanese']]"
   ]
  },
  {
   "cell_type": "markdown",
   "id": "2cf3cac7",
   "metadata": {},
   "source": [
    "Для оставшихся заполним имена вручную."
   ]
  },
  {
   "cell_type": "code",
   "execution_count": 15,
   "id": "911bde09",
   "metadata": {},
   "outputs": [],
   "source": [
    "data.loc[data['English'].isna(), 'English'] = [\n",
    "    'Great Pretender', 'Buddy Daddies', 'Eiga Given',\n",
    "    'Spy x Family Season 2', 'MIGNON', 'Project Common'\n",
    "]"
   ]
  },
  {
   "cell_type": "code",
   "execution_count": 16,
   "id": "846ffbf2",
   "metadata": {},
   "outputs": [],
   "source": [
    "data.drop(['Synonyms', 'Japanese'], axis=1, inplace=True)"
   ]
  },
  {
   "cell_type": "code",
   "execution_count": 17,
   "id": "4e0bc804",
   "metadata": {},
   "outputs": [],
   "source": [
    "data['Description'] = data['Description'].astype('string')\n",
    "data['English'] = data['English'].astype('string')"
   ]
  },
  {
   "cell_type": "markdown",
   "id": "0613f3b2",
   "metadata": {},
   "source": [
    "##### Колонка Type"
   ]
  },
  {
   "cell_type": "code",
   "execution_count": 18,
   "id": "607fc5df",
   "metadata": {},
   "outputs": [
    {
     "data": {
      "text/plain": [
       "array(['TV', 'Movie', 'OVA', 'TV Special', 'ONA', 'Special'], dtype=object)"
      ]
     },
     "execution_count": 18,
     "metadata": {},
     "output_type": "execute_result"
    }
   ],
   "source": [
    "data['Type'].unique()"
   ]
  },
  {
   "cell_type": "code",
   "execution_count": 19,
   "id": "931ddc0c",
   "metadata": {},
   "outputs": [],
   "source": [
    "data['Type'] = data['Type'].astype('category')"
   ]
  },
  {
   "cell_type": "markdown",
   "id": "1f4d8f1d",
   "metadata": {},
   "source": [
    "##### Колонка Episodes"
   ]
  },
  {
   "cell_type": "code",
   "execution_count": 20,
   "id": "21eaf075",
   "metadata": {},
   "outputs": [
    {
     "data": {
      "text/html": [
       "<div>\n",
       "<style scoped>\n",
       "    .dataframe tbody tr th:only-of-type {\n",
       "        vertical-align: middle;\n",
       "    }\n",
       "\n",
       "    .dataframe tbody tr th {\n",
       "        vertical-align: top;\n",
       "    }\n",
       "\n",
       "    .dataframe thead th {\n",
       "        text-align: right;\n",
       "    }\n",
       "</style>\n",
       "<table border=\"1\" class=\"dataframe\">\n",
       "  <thead>\n",
       "    <tr style=\"text-align: right;\">\n",
       "      <th></th>\n",
       "      <th>English</th>\n",
       "      <th>Type</th>\n",
       "      <th>Description</th>\n",
       "    </tr>\n",
       "  </thead>\n",
       "  <tbody>\n",
       "    <tr>\n",
       "      <th>50</th>\n",
       "      <td>One Piece</td>\n",
       "      <td>TV</td>\n",
       "      <td>Barely surviving in a barrel after passing thr...</td>\n",
       "    </tr>\n",
       "    <tr>\n",
       "      <th>389</th>\n",
       "      <td>Holo Graffiti</td>\n",
       "      <td>ONA</td>\n",
       "      <td>From unraveling the secrets of opening and clo...</td>\n",
       "    </tr>\n",
       "    <tr>\n",
       "      <th>419</th>\n",
       "      <td>Case Closed</td>\n",
       "      <td>TV</td>\n",
       "      <td>Shinichi Kudou, a high school student of astou...</td>\n",
       "    </tr>\n",
       "  </tbody>\n",
       "</table>\n",
       "</div>"
      ],
      "text/plain": [
       "           English Type                                        Description\n",
       "50       One Piece   TV  Barely surviving in a barrel after passing thr...\n",
       "389  Holo Graffiti  ONA  From unraveling the secrets of opening and clo...\n",
       "419    Case Closed   TV  Shinichi Kudou, a high school student of astou..."
      ]
     },
     "execution_count": 20,
     "metadata": {},
     "output_type": "execute_result"
    }
   ],
   "source": [
    "data['Episodes'] = pd.to_numeric(data['Episodes'], errors='coerce')\n",
    "data[data['Episodes'].isna()][['English', 'Type', 'Description']]"
   ]
  },
  {
   "cell_type": "markdown",
   "id": "25937db8",
   "metadata": {},
   "source": [
    "У трех записей отсутствуют данные по количеству эпизодов. У этих аниме на данный момент вышло по 1092, 150 и 1127 эпизодов соответственно. Дополним данные."
   ]
  },
  {
   "cell_type": "code",
   "execution_count": 21,
   "id": "74512b6e",
   "metadata": {},
   "outputs": [],
   "source": [
    "data.loc[data['Episodes'].isna(), 'Episodes']= [1092, 150, 1127]\n",
    "data['Episodes'] = data['Episodes'].astype('int64')"
   ]
  },
  {
   "cell_type": "markdown",
   "id": "50cd7dca",
   "metadata": {},
   "source": [
    "##### Колонка Status"
   ]
  },
  {
   "cell_type": "code",
   "execution_count": 22,
   "id": "1a94f21d",
   "metadata": {},
   "outputs": [
    {
     "data": {
      "text/plain": [
       "array(['Finished Airing', 'Currently Airing'], dtype=object)"
      ]
     },
     "execution_count": 22,
     "metadata": {},
     "output_type": "execute_result"
    }
   ],
   "source": [
    "data['Status'].unique()"
   ]
  },
  {
   "cell_type": "code",
   "execution_count": 23,
   "id": "3d85113c",
   "metadata": {},
   "outputs": [],
   "source": [
    "data['Status'] = data['Status'].astype('category')"
   ]
  },
  {
   "cell_type": "markdown",
   "id": "2564cac8",
   "metadata": {},
   "source": [
    "##### Колонка Aired"
   ]
  },
  {
   "cell_type": "code",
   "execution_count": 24,
   "id": "e37de2ac",
   "metadata": {},
   "outputs": [
    {
     "data": {
      "text/plain": [
       "array(['Sep 29, 2023 to Mar 22, 2024', 'Apr 5, 2009 to Jul 4, 2010',\n",
       "       'Apr 6, 2011 to Sep 14, 2011', 'Apr 8, 2015 to Mar 30, 2016',\n",
       "       'Apr 29, 2019 to Jul 1, 2019'], dtype=object)"
      ]
     },
     "execution_count": 24,
     "metadata": {},
     "output_type": "execute_result"
    }
   ],
   "source": [
    "data['Aired'].unique()[0:5]"
   ]
  },
  {
   "cell_type": "markdown",
   "id": "4d5b393d",
   "metadata": {},
   "source": [
    "Разобьем колонку 'Aired' на две и преобразуем их к формату времени."
   ]
  },
  {
   "cell_type": "code",
   "execution_count": 25,
   "id": "a7a8de2d",
   "metadata": {},
   "outputs": [],
   "source": [
    "data[['Aired start', 'Aired end']] = data['Aired'].str.split(' to ', expand=True)\n",
    "data['Aired start'] = pd.to_datetime(data['Aired start'], errors='coerce')\n",
    "data['Aired end'] = pd.to_datetime(data['Aired end'], errors='coerce').astype('datetime64[ns]')"
   ]
  },
  {
   "cell_type": "code",
   "execution_count": 26,
   "id": "18858774",
   "metadata": {},
   "outputs": [
    {
     "data": {
      "text/plain": [
       "Aired start      0\n",
       "Aired end      338\n",
       "dtype: int64"
      ]
     },
     "execution_count": 26,
     "metadata": {},
     "output_type": "execute_result"
    }
   ],
   "source": [
    "data[['Aired start', 'Aired end']].isna().sum()"
   ]
  },
  {
   "cell_type": "markdown",
   "id": "5643cd5e",
   "metadata": {},
   "source": [
    "Рассмотрим подробнее записи с пропусками в колонке 'Aired end'."
   ]
  },
  {
   "cell_type": "code",
   "execution_count": 27,
   "id": "466b9a95",
   "metadata": {},
   "outputs": [
    {
     "data": {
      "text/html": [
       "<div>\n",
       "<style scoped>\n",
       "    .dataframe tbody tr th:only-of-type {\n",
       "        vertical-align: middle;\n",
       "    }\n",
       "\n",
       "    .dataframe tbody tr th {\n",
       "        vertical-align: top;\n",
       "    }\n",
       "\n",
       "    .dataframe thead th {\n",
       "        text-align: right;\n",
       "    }\n",
       "</style>\n",
       "<table border=\"1\" class=\"dataframe\">\n",
       "  <thead>\n",
       "    <tr style=\"text-align: right;\">\n",
       "      <th></th>\n",
       "      <th>English</th>\n",
       "      <th>Type</th>\n",
       "      <th>Episodes</th>\n",
       "      <th>Status</th>\n",
       "      <th>Aired</th>\n",
       "      <th>Aired start</th>\n",
       "      <th>Aired end</th>\n",
       "    </tr>\n",
       "  </thead>\n",
       "  <tbody>\n",
       "    <tr>\n",
       "      <th>5</th>\n",
       "      <td>Gintama: The Very Final</td>\n",
       "      <td>Movie</td>\n",
       "      <td>1</td>\n",
       "      <td>Finished Airing</td>\n",
       "      <td>Jan 8, 2021</td>\n",
       "      <td>2021-01-08</td>\n",
       "      <td>NaT</td>\n",
       "    </tr>\n",
       "    <tr>\n",
       "      <th>16</th>\n",
       "      <td>A Silent Voice</td>\n",
       "      <td>Movie</td>\n",
       "      <td>1</td>\n",
       "      <td>Finished Airing</td>\n",
       "      <td>Sep 17, 2016</td>\n",
       "      <td>2016-09-17</td>\n",
       "      <td>NaT</td>\n",
       "    </tr>\n",
       "    <tr>\n",
       "      <th>20</th>\n",
       "      <td>Gintama: The Movie: The Final Chapter: Be Fore...</td>\n",
       "      <td>Movie</td>\n",
       "      <td>1</td>\n",
       "      <td>Finished Airing</td>\n",
       "      <td>Jul 6, 2013</td>\n",
       "      <td>2013-07-06</td>\n",
       "      <td>NaT</td>\n",
       "    </tr>\n",
       "    <tr>\n",
       "      <th>26</th>\n",
       "      <td>Violet Evergarden: The Movie</td>\n",
       "      <td>Movie</td>\n",
       "      <td>1</td>\n",
       "      <td>Finished Airing</td>\n",
       "      <td>Sep 18, 2020</td>\n",
       "      <td>2020-09-18</td>\n",
       "      <td>NaT</td>\n",
       "    </tr>\n",
       "    <tr>\n",
       "      <th>28</th>\n",
       "      <td>Your Name.</td>\n",
       "      <td>Movie</td>\n",
       "      <td>1</td>\n",
       "      <td>Finished Airing</td>\n",
       "      <td>Aug 26, 2016</td>\n",
       "      <td>2016-08-26</td>\n",
       "      <td>NaT</td>\n",
       "    </tr>\n",
       "    <tr>\n",
       "      <th>...</th>\n",
       "      <td>...</td>\n",
       "      <td>...</td>\n",
       "      <td>...</td>\n",
       "      <td>...</td>\n",
       "      <td>...</td>\n",
       "      <td>...</td>\n",
       "      <td>...</td>\n",
       "    </tr>\n",
       "    <tr>\n",
       "      <th>994</th>\n",
       "      <td>Lucky☆Star OVA</td>\n",
       "      <td>OVA</td>\n",
       "      <td>1</td>\n",
       "      <td>Finished Airing</td>\n",
       "      <td>Sep 26, 2008</td>\n",
       "      <td>2008-09-26</td>\n",
       "      <td>NaT</td>\n",
       "    </tr>\n",
       "    <tr>\n",
       "      <th>995</th>\n",
       "      <td>Macross Frontier: The False Songstress</td>\n",
       "      <td>Movie</td>\n",
       "      <td>1</td>\n",
       "      <td>Finished Airing</td>\n",
       "      <td>Nov 21, 2009</td>\n",
       "      <td>2009-11-21</td>\n",
       "      <td>NaT</td>\n",
       "    </tr>\n",
       "    <tr>\n",
       "      <th>997</th>\n",
       "      <td>Detective Conan Movie 09: Strategy Above the D...</td>\n",
       "      <td>Movie</td>\n",
       "      <td>1</td>\n",
       "      <td>Finished Airing</td>\n",
       "      <td>Apr 9, 2005</td>\n",
       "      <td>2005-04-09</td>\n",
       "      <td>NaT</td>\n",
       "    </tr>\n",
       "    <tr>\n",
       "      <th>998</th>\n",
       "      <td>Detective Conan Movie 12: Full Score of Fear</td>\n",
       "      <td>Movie</td>\n",
       "      <td>1</td>\n",
       "      <td>Finished Airing</td>\n",
       "      <td>Apr 19, 2008</td>\n",
       "      <td>2008-04-19</td>\n",
       "      <td>NaT</td>\n",
       "    </tr>\n",
       "    <tr>\n",
       "      <th>999</th>\n",
       "      <td>Initial D Legend 1 Awakening</td>\n",
       "      <td>Movie</td>\n",
       "      <td>1</td>\n",
       "      <td>Finished Airing</td>\n",
       "      <td>Aug 24, 2014</td>\n",
       "      <td>2014-08-24</td>\n",
       "      <td>NaT</td>\n",
       "    </tr>\n",
       "  </tbody>\n",
       "</table>\n",
       "<p>338 rows × 7 columns</p>\n",
       "</div>"
      ],
      "text/plain": [
       "                                               English   Type  Episodes  \\\n",
       "5                              Gintama: The Very Final  Movie         1   \n",
       "16                                      A Silent Voice  Movie         1   \n",
       "20   Gintama: The Movie: The Final Chapter: Be Fore...  Movie         1   \n",
       "26                        Violet Evergarden: The Movie  Movie         1   \n",
       "28                                          Your Name.  Movie         1   \n",
       "..                                                 ...    ...       ...   \n",
       "994                                     Lucky☆Star OVA    OVA         1   \n",
       "995             Macross Frontier: The False Songstress  Movie         1   \n",
       "997  Detective Conan Movie 09: Strategy Above the D...  Movie         1   \n",
       "998       Detective Conan Movie 12: Full Score of Fear  Movie         1   \n",
       "999                       Initial D Legend 1 Awakening  Movie         1   \n",
       "\n",
       "              Status         Aired Aired start Aired end  \n",
       "5    Finished Airing   Jan 8, 2021  2021-01-08       NaT  \n",
       "16   Finished Airing  Sep 17, 2016  2016-09-17       NaT  \n",
       "20   Finished Airing   Jul 6, 2013  2013-07-06       NaT  \n",
       "26   Finished Airing  Sep 18, 2020  2020-09-18       NaT  \n",
       "28   Finished Airing  Aug 26, 2016  2016-08-26       NaT  \n",
       "..               ...           ...         ...       ...  \n",
       "994  Finished Airing  Sep 26, 2008  2008-09-26       NaT  \n",
       "995  Finished Airing  Nov 21, 2009  2009-11-21       NaT  \n",
       "997  Finished Airing   Apr 9, 2005  2005-04-09       NaT  \n",
       "998  Finished Airing  Apr 19, 2008  2008-04-19       NaT  \n",
       "999  Finished Airing  Aug 24, 2014  2014-08-24       NaT  \n",
       "\n",
       "[338 rows x 7 columns]"
      ]
     },
     "execution_count": 27,
     "metadata": {},
     "output_type": "execute_result"
    }
   ],
   "source": [
    "data.loc[\n",
    "    data['Aired end'].isna(),\n",
    "    ['English', 'Type', 'Episodes', 'Status', 'Aired', 'Aired start', 'Aired end']\n",
    "]"
   ]
  },
  {
   "cell_type": "markdown",
   "id": "7d3780cd",
   "metadata": {},
   "source": [
    "Видно, что много пропусков в записях с одним эпизодом. Для таких записей запишем в колонку 'Aired end' значение из колонки 'Aired start"
   ]
  },
  {
   "cell_type": "code",
   "execution_count": 28,
   "id": "31df29b4",
   "metadata": {},
   "outputs": [],
   "source": [
    "mask = (data['Episodes'] == 1) & data['Aired end'].isna()\n",
    "data.loc[mask, 'Aired end'] = data[mask]['Aired start']"
   ]
  },
  {
   "cell_type": "markdown",
   "id": "d74ca27d",
   "metadata": {},
   "source": [
    "Для аниме, которые еще транслируются, установим в качестве значения 'Aired end' текущую дату"
   ]
  },
  {
   "cell_type": "code",
   "execution_count": 29,
   "id": "a8dad714",
   "metadata": {},
   "outputs": [],
   "source": [
    "mask = (data['Status'] == 'Currently Airing') & (data['Aired end'].isna())\n",
    "data.loc[mask, 'Aired end'] = pd.Timestamp.now().strftime('%Y-%m-%d')\n",
    "data['Aired end'] = data['Aired end'].astype('datetime64[ns]')"
   ]
  },
  {
   "cell_type": "code",
   "execution_count": 30,
   "id": "69aeb3c0",
   "metadata": {},
   "outputs": [],
   "source": [
    "data.drop('Aired', axis=1, inplace=True)"
   ]
  },
  {
   "cell_type": "markdown",
   "id": "195cf1e8",
   "metadata": {},
   "source": [
    "##### Колонка 'Premiered'"
   ]
  },
  {
   "cell_type": "code",
   "execution_count": 31,
   "id": "c563c6cc",
   "metadata": {},
   "outputs": [
    {
     "data": {
      "text/html": [
       "<div>\n",
       "<style scoped>\n",
       "    .dataframe tbody tr th:only-of-type {\n",
       "        vertical-align: middle;\n",
       "    }\n",
       "\n",
       "    .dataframe tbody tr th {\n",
       "        vertical-align: top;\n",
       "    }\n",
       "\n",
       "    .dataframe thead th {\n",
       "        text-align: right;\n",
       "    }\n",
       "</style>\n",
       "<table border=\"1\" class=\"dataframe\">\n",
       "  <thead>\n",
       "    <tr style=\"text-align: right;\">\n",
       "      <th></th>\n",
       "      <th>Aired start</th>\n",
       "      <th>Premiered</th>\n",
       "    </tr>\n",
       "  </thead>\n",
       "  <tbody>\n",
       "    <tr>\n",
       "      <th>995</th>\n",
       "      <td>2009-11-21</td>\n",
       "      <td>NaN</td>\n",
       "    </tr>\n",
       "    <tr>\n",
       "      <th>996</th>\n",
       "      <td>2014-05-14</td>\n",
       "      <td>NaN</td>\n",
       "    </tr>\n",
       "    <tr>\n",
       "      <th>997</th>\n",
       "      <td>2005-04-09</td>\n",
       "      <td>NaN</td>\n",
       "    </tr>\n",
       "    <tr>\n",
       "      <th>998</th>\n",
       "      <td>2008-04-19</td>\n",
       "      <td>NaN</td>\n",
       "    </tr>\n",
       "    <tr>\n",
       "      <th>999</th>\n",
       "      <td>2014-08-24</td>\n",
       "      <td>NaN</td>\n",
       "    </tr>\n",
       "  </tbody>\n",
       "</table>\n",
       "</div>"
      ],
      "text/plain": [
       "    Aired start Premiered\n",
       "995  2009-11-21       NaN\n",
       "996  2014-05-14       NaN\n",
       "997  2005-04-09       NaN\n",
       "998  2008-04-19       NaN\n",
       "999  2014-08-24       NaN"
      ]
     },
     "execution_count": 31,
     "metadata": {},
     "output_type": "execute_result"
    }
   ],
   "source": [
    "data[['Aired start', 'Premiered']].tail(5)"
   ]
  },
  {
   "cell_type": "markdown",
   "id": "befb81c9",
   "metadata": {},
   "source": [
    "Заполним пропуски в колонке 'Premiered', используя данные из колонки 'Aired start'."
   ]
  },
  {
   "cell_type": "code",
   "execution_count": 32,
   "id": "2753d8f1",
   "metadata": {},
   "outputs": [],
   "source": [
    "season_map = {\n",
    "    1: 'Winter',\n",
    "    2: 'Winter',\n",
    "    3: 'Winter',\n",
    "    4: 'Spring',\n",
    "    5: 'Spring',\n",
    "    6: 'Spring',\n",
    "    7: 'Summer',\n",
    "    8: 'Summer',\n",
    "    9: 'Summer',\n",
    "    10: 'Fall',\n",
    "    11: 'Fall',\n",
    "    12: 'Fall'\n",
    "}\n",
    "data.loc[data['Premiered'].isna(), 'Premiered'] = data[\n",
    "    data['Premiered'].isna()]['Aired start']\\\n",
    ".apply(lambda x: f'{season_map[x.month]} {x.year}')"
   ]
  },
  {
   "cell_type": "markdown",
   "id": "4635ff78",
   "metadata": {},
   "source": [
    "И разобьем её на две."
   ]
  },
  {
   "cell_type": "code",
   "execution_count": 33,
   "id": "f3987bf3",
   "metadata": {},
   "outputs": [],
   "source": [
    "data[['Premiere Season', 'Premiere Year']] = data['Premiered'].str.split(' ', expand=True)\n",
    "data['Premiere Year'] = data['Premiere Year'].astype('int64')\n",
    "data.drop('Premiered', axis=1, inplace=True)\n",
    "data['Premiere Year'] = pd.Categorical(data['Premiere Year'], ordered=True)\n",
    "data['Premiere Season'] = pd.Categorical(data['Premiere Season'])"
   ]
  },
  {
   "cell_type": "markdown",
   "id": "d54f704f",
   "metadata": {},
   "source": [
    "##### Колонка Broadcast"
   ]
  },
  {
   "cell_type": "code",
   "execution_count": 34,
   "id": "013ef9b1",
   "metadata": {},
   "outputs": [
    {
     "data": {
      "text/plain": [
       "0         Fridays at 23:00 (JST)\n",
       "1         Sundays at 17:00 (JST)\n",
       "2      Wednesdays at 02:05 (JST)\n",
       "3      Wednesdays at 18:00 (JST)\n",
       "4         Mondays at 00:10 (JST)\n",
       "                 ...            \n",
       "995                          NaN\n",
       "996                          NaN\n",
       "997                          NaN\n",
       "998                          NaN\n",
       "999                          NaN\n",
       "Name: Broadcast, Length: 1000, dtype: object"
      ]
     },
     "execution_count": 34,
     "metadata": {},
     "output_type": "execute_result"
    }
   ],
   "source": [
    "data['Broadcast']"
   ]
  },
  {
   "cell_type": "code",
   "execution_count": 35,
   "id": "20e64278",
   "metadata": {},
   "outputs": [
    {
     "data": {
      "image/png": "[encoded data removed]",
      "text/plain": [
       "<Figure size 640x480 with 1 Axes>"
      ]
     },
     "metadata": {},
     "output_type": "display_data"
    }
   ],
   "source": [
    "plot_donut_chart(data, 'Broadcast')"
   ]
  },
  {
   "cell_type": "code",
   "execution_count": 36,
   "id": "ff0715a1",
   "metadata": {
    "scrolled": true
   },
   "outputs": [],
   "source": [
    "df = data.copy()\n",
    "df['Missing_Broadcast'] = data['Broadcast'].isna()\n",
    "\n",
    "df_agg = df.groupby(by='Type').agg({'Missing_Broadcast': 'sum'}).reset_index()"
   ]
  },
  {
   "cell_type": "code",
   "execution_count": 37,
   "id": "55dae3cd",
   "metadata": {},
   "outputs": [
    {
     "data": {
      "text/html": [
       "<div>\n",
       "<style scoped>\n",
       "    .dataframe tbody tr th:only-of-type {\n",
       "        vertical-align: middle;\n",
       "    }\n",
       "\n",
       "    .dataframe tbody tr th {\n",
       "        vertical-align: top;\n",
       "    }\n",
       "\n",
       "    .dataframe thead th {\n",
       "        text-align: right;\n",
       "    }\n",
       "</style>\n",
       "<table border=\"1\" class=\"dataframe\">\n",
       "  <thead>\n",
       "    <tr style=\"text-align: right;\">\n",
       "      <th></th>\n",
       "      <th>Type</th>\n",
       "      <th>Missing_Broadcast</th>\n",
       "    </tr>\n",
       "  </thead>\n",
       "  <tbody>\n",
       "    <tr>\n",
       "      <th>0</th>\n",
       "      <td>Movie</td>\n",
       "      <td>235</td>\n",
       "    </tr>\n",
       "    <tr>\n",
       "      <th>1</th>\n",
       "      <td>ONA</td>\n",
       "      <td>53</td>\n",
       "    </tr>\n",
       "    <tr>\n",
       "      <th>2</th>\n",
       "      <td>OVA</td>\n",
       "      <td>84</td>\n",
       "    </tr>\n",
       "    <tr>\n",
       "      <th>3</th>\n",
       "      <td>Special</td>\n",
       "      <td>37</td>\n",
       "    </tr>\n",
       "    <tr>\n",
       "      <th>4</th>\n",
       "      <td>TV</td>\n",
       "      <td>0</td>\n",
       "    </tr>\n",
       "    <tr>\n",
       "      <th>5</th>\n",
       "      <td>TV Special</td>\n",
       "      <td>22</td>\n",
       "    </tr>\n",
       "  </tbody>\n",
       "</table>\n",
       "</div>"
      ],
      "text/plain": [
       "         Type  Missing_Broadcast\n",
       "0       Movie                235\n",
       "1         ONA                 53\n",
       "2         OVA                 84\n",
       "3     Special                 37\n",
       "4          TV                  0\n",
       "5  TV Special                 22"
      ]
     },
     "execution_count": 37,
     "metadata": {},
     "output_type": "execute_result"
    }
   ],
   "source": [
    "df_agg"
   ]
  },
  {
   "cell_type": "code",
   "execution_count": 38,
   "id": "e67e22c0",
   "metadata": {},
   "outputs": [
    {
     "data": {
      "text/plain": [
       "431"
      ]
     },
     "execution_count": 38,
     "metadata": {},
     "output_type": "execute_result"
    }
   ],
   "source": [
    "df_agg['Missing_Broadcast'].sum()"
   ]
  },
  {
   "cell_type": "markdown",
   "id": "5550934f",
   "metadata": {},
   "source": [
    "Видно, что все пропущенные значения это значения относящиеся к не телевизионному формату. Т.е это на самом деле не пропуски."
   ]
  },
  {
   "cell_type": "code",
   "execution_count": 39,
   "id": "ff0ea7a3",
   "metadata": {},
   "outputs": [],
   "source": [
    "data['Broadcast'].fillna('No Broadcast', inplace=True)"
   ]
  },
  {
   "cell_type": "code",
   "execution_count": 40,
   "id": "68e66237",
   "metadata": {},
   "outputs": [
    {
     "data": {
      "text/plain": [
       "array(['Fridays at 23:00 (JST)', 'Sundays at 17:00 (JST)',\n",
       "       'Wednesdays at 02:05 (JST)', 'Wednesdays at 18:00 (JST)',\n",
       "       'Mondays at 00:10 (JST)'], dtype=object)"
      ]
     },
     "execution_count": 40,
     "metadata": {},
     "output_type": "execute_result"
    }
   ],
   "source": [
    "data['Broadcast'].unique()[:5]"
   ]
  },
  {
   "cell_type": "markdown",
   "id": "508b95d7",
   "metadata": {},
   "source": [
    "Выведем значения, которые не соответствуют шаблону"
   ]
  },
  {
   "cell_type": "code",
   "execution_count": 41,
   "id": "d4c17741",
   "metadata": {},
   "outputs": [
    {
     "data": {
      "text/plain": [
       "array(['No Broadcast', 'Unknown', 'Not scheduled once per week',\n",
       "       'Wednesdays at Unknown', 'Saturdays at Unknown',\n",
       "       'Sundays at Unknown'], dtype=object)"
      ]
     },
     "execution_count": 41,
     "metadata": {},
     "output_type": "execute_result"
    }
   ],
   "source": [
    "mask = ~data['Broadcast'].str.match('[MTWSF][a-z]+days at \\d{2}:\\d{2} \\(JST\\)').fillna(True)\n",
    "data['Broadcast'][mask].unique()"
   ]
  },
  {
   "cell_type": "code",
   "execution_count": 42,
   "id": "ae1f0704",
   "metadata": {},
   "outputs": [],
   "source": [
    "mask = ~data['Broadcast'].isin(['Unknown', 'Not scheduled once per week', 'No Broadcast'])"
   ]
  },
  {
   "cell_type": "code",
   "execution_count": 43,
   "id": "3401e618",
   "metadata": {},
   "outputs": [],
   "source": [
    "def get_day_time(s):\n",
    "    '''Функция выделяет день и время трансляции'''\n",
    "    regex_day = r'[MTWSF][a-z]+day'\n",
    "    regex_time = r'\\d{2}:\\d{2}'\n",
    "    \n",
    "    match = re.match(regex_day, s)\n",
    "    day, time = None, None\n",
    "    if match is not None:\n",
    "        day = match.group()    \n",
    "    match = re.search(regex_time, s)\n",
    "    if match is not None:\n",
    "        time = match.group()\n",
    "    \n",
    "    return day, time\n",
    "    "
   ]
  },
  {
   "cell_type": "code",
   "execution_count": 44,
   "id": "c9bbe273",
   "metadata": {},
   "outputs": [],
   "source": [
    "data.loc[mask, ['Broadcast day', 'Broadcast time']] = data[mask]['Broadcast'].apply(get_day_time).to_list()"
   ]
  },
  {
   "cell_type": "code",
   "execution_count": 45,
   "id": "2abf748c",
   "metadata": {},
   "outputs": [],
   "source": [
    "mask = (data['Broadcast'] == 'No Broadcast')\n",
    "data.loc[mask, ['Broadcast day', 'Broadcast time']] = 'No Broadcast'\n",
    "mask = (data['Broadcast'] == 'Not scheduled once per week')\n",
    "data.loc[mask, ['Broadcast day', 'Broadcast time']] = 'Not scheduled once per week'"
   ]
  },
  {
   "cell_type": "code",
   "execution_count": 46,
   "id": "e474353b",
   "metadata": {},
   "outputs": [
    {
     "data": {
      "image/png": "[encoded data removed]",
      "text/plain": [
       "<Figure size 640x480 with 1 Axes>"
      ]
     },
     "metadata": {},
     "output_type": "display_data"
    }
   ],
   "source": [
    "plot_donut_chart(data[data['Type'] == 'TV'], 'Broadcast day')"
   ]
  },
  {
   "cell_type": "code",
   "execution_count": 47,
   "id": "d4204009",
   "metadata": {},
   "outputs": [
    {
     "data": {
      "image/png": "[encoded data removed]",
      "text/plain": [
       "<Figure size 640x480 with 1 Axes>"
      ]
     },
     "metadata": {},
     "output_type": "display_data"
    }
   ],
   "source": [
    "plot_donut_chart(data[data['Type'] == 'TV'], 'Broadcast time')"
   ]
  },
  {
   "cell_type": "code",
   "execution_count": 48,
   "id": "f7f97958",
   "metadata": {},
   "outputs": [],
   "source": [
    "data['Broadcast day'] = pd.Categorical(data['Broadcast day'])\n",
    "data['Broadcast time'] = pd.Categorical(data['Broadcast time'])\n",
    "data.drop('Broadcast', axis=1, inplace=True)"
   ]
  },
  {
   "cell_type": "markdown",
   "id": "6e2961fe",
   "metadata": {},
   "source": [
    "##### Колонка Producers"
   ]
  },
  {
   "cell_type": "code",
   "execution_count": 49,
   "id": "9d8cb63b",
   "metadata": {},
   "outputs": [
    {
     "data": {
      "text/plain": [
       "Aniplex                         166\n",
       "Dentsu                          120\n",
       "None found                      111\n",
       "Shueisha                        111\n",
       "add some                        111\n",
       "Movic                           109\n",
       "Kodansha                         92\n",
       "Mainichi Broadcasting System     89\n",
       "TV Tokyo                         85\n",
       "Kadokawa                         69\n",
       "Name: Producers, dtype: int64"
      ]
     },
     "execution_count": 49,
     "metadata": {},
     "output_type": "execute_result"
    }
   ],
   "source": [
    "data['Producers'].str.split(', ').explode().value_counts().head(10)"
   ]
  },
  {
   "cell_type": "code",
   "execution_count": 50,
   "id": "249d05f5",
   "metadata": {},
   "outputs": [],
   "source": [
    "data.loc[data['Producers'] == 'None found, add some', 'Producers'] = None"
   ]
  },
  {
   "cell_type": "code",
   "execution_count": 51,
   "id": "99f6ed72",
   "metadata": {},
   "outputs": [
    {
     "data": {
      "image/png": "[encoded data removed]",
      "text/plain": [
       "<Figure size 640x480 with 1 Axes>"
      ]
     },
     "metadata": {},
     "output_type": "display_data"
    }
   ],
   "source": [
    "plot_donut_chart(data, 'Producers')"
   ]
  },
  {
   "cell_type": "code",
   "execution_count": 52,
   "id": "4c73a63d",
   "metadata": {},
   "outputs": [],
   "source": [
    "data['Producers'] = data['Producers'].astype('string')"
   ]
  },
  {
   "cell_type": "markdown",
   "id": "90f76b4f",
   "metadata": {},
   "source": [
    "##### Колонка Licensors"
   ]
  },
  {
   "cell_type": "code",
   "execution_count": 53,
   "id": "14966052",
   "metadata": {},
   "outputs": [
    {
     "data": {
      "text/plain": [
       "0              None found, add some\n",
       "1    Funimation, Aniplex of America\n",
       "2                        Funimation\n",
       "3           Funimation, Crunchyroll\n",
       "4                        Funimation\n",
       "5                       Eleven Arts\n",
       "6                         VIZ Media\n",
       "7              None found, add some\n",
       "8                         VIZ Media\n",
       "9                  Sentai Filmworks\n",
       "Name: Licensors, dtype: object"
      ]
     },
     "execution_count": 53,
     "metadata": {},
     "output_type": "execute_result"
    }
   ],
   "source": [
    "data['Licensors'].head(10)"
   ]
  },
  {
   "cell_type": "code",
   "execution_count": 54,
   "id": "9c49a5ee",
   "metadata": {},
   "outputs": [],
   "source": [
    "data.loc[data['Licensors'] == 'None found, add some', 'Licensors'] = None"
   ]
  },
  {
   "cell_type": "code",
   "execution_count": 55,
   "id": "a10f43b3",
   "metadata": {},
   "outputs": [
    {
     "data": {
      "image/png": "[encoded data removed]",
      "text/plain": [
       "<Figure size 640x480 with 1 Axes>"
      ]
     },
     "metadata": {},
     "output_type": "display_data"
    }
   ],
   "source": [
    "plot_donut_chart(data, 'Licensors')"
   ]
  },
  {
   "cell_type": "code",
   "execution_count": 56,
   "id": "187b8118",
   "metadata": {},
   "outputs": [],
   "source": [
    "mask = (~data['Licensors'].isna())\n",
    "data.loc[mask, 'Licensors'] = data[mask]['Licensors'].str.split(', ').apply(lambda x: ', '.join(sorted(x)))"
   ]
  },
  {
   "cell_type": "code",
   "execution_count": 57,
   "id": "814a4eff",
   "metadata": {},
   "outputs": [],
   "source": [
    "data['Licensors'] = data['Licensors'].astype('string')"
   ]
  },
  {
   "cell_type": "markdown",
   "id": "0d078443",
   "metadata": {},
   "source": [
    "##### Колонка Studios"
   ]
  },
  {
   "cell_type": "code",
   "execution_count": 58,
   "id": "14c2beec",
   "metadata": {},
   "outputs": [
    {
     "data": {
      "text/html": [
       "<div>\n",
       "<style scoped>\n",
       "    .dataframe tbody tr th:only-of-type {\n",
       "        vertical-align: middle;\n",
       "    }\n",
       "\n",
       "    .dataframe tbody tr th {\n",
       "        vertical-align: top;\n",
       "    }\n",
       "\n",
       "    .dataframe thead th {\n",
       "        text-align: right;\n",
       "    }\n",
       "</style>\n",
       "<table border=\"1\" class=\"dataframe\">\n",
       "  <thead>\n",
       "    <tr style=\"text-align: right;\">\n",
       "      <th></th>\n",
       "      <th>Score</th>\n",
       "      <th>Popularity</th>\n",
       "      <th>Rank</th>\n",
       "      <th>Members</th>\n",
       "      <th>Description</th>\n",
       "      <th>English</th>\n",
       "      <th>Type</th>\n",
       "      <th>Episodes</th>\n",
       "      <th>Status</th>\n",
       "      <th>Producers</th>\n",
       "      <th>...</th>\n",
       "      <th>Genres</th>\n",
       "      <th>Demographic</th>\n",
       "      <th>Duration</th>\n",
       "      <th>Rating</th>\n",
       "      <th>Aired start</th>\n",
       "      <th>Aired end</th>\n",
       "      <th>Premiere Season</th>\n",
       "      <th>Premiere Year</th>\n",
       "      <th>Broadcast day</th>\n",
       "      <th>Broadcast time</th>\n",
       "    </tr>\n",
       "  </thead>\n",
       "  <tbody>\n",
       "    <tr>\n",
       "      <th>669</th>\n",
       "      <td>7.97</td>\n",
       "      <td>11638</td>\n",
       "      <td>670</td>\n",
       "      <td>1</td>\n",
       "      <td>Animated short film about the backstory of the...</td>\n",
       "      <td>Genshin Impact: The Song Burning in the Embers</td>\n",
       "      <td>ONA</td>\n",
       "      <td>1</td>\n",
       "      <td>Finished Airing</td>\n",
       "      <td>miHoYoAnime</td>\n",
       "      <td>...</td>\n",
       "      <td>ActionAction, DramaDrama, FantasyFantasy</td>\n",
       "      <td>NaN</td>\n",
       "      <td>7 min.</td>\n",
       "      <td>PG-13 - Teens 13 or older</td>\n",
       "      <td>2024-04-17</td>\n",
       "      <td>2024-04-17</td>\n",
       "      <td>Spring</td>\n",
       "      <td>2024</td>\n",
       "      <td>No Broadcast</td>\n",
       "      <td>No Broadcast</td>\n",
       "    </tr>\n",
       "    <tr>\n",
       "      <th>757</th>\n",
       "      <td>7.92</td>\n",
       "      <td>7671</td>\n",
       "      <td>758</td>\n",
       "      <td>6</td>\n",
       "      <td>Marisa, an ordinary magician, suspects a youka...</td>\n",
       "      <td>Touhou Fantasy Kaleidoscope: The Memories of P...</td>\n",
       "      <td>OVA</td>\n",
       "      <td>18</td>\n",
       "      <td>Finished Airing</td>\n",
       "      <td>&lt;NA&gt;</td>\n",
       "      <td>...</td>\n",
       "      <td>NaN</td>\n",
       "      <td>NaN</td>\n",
       "      <td>16 min. per ep.</td>\n",
       "      <td>PG-13 - Teens 13 or older</td>\n",
       "      <td>2011-08-12</td>\n",
       "      <td>2023-05-07</td>\n",
       "      <td>Summer</td>\n",
       "      <td>2011</td>\n",
       "      <td>No Broadcast</td>\n",
       "      <td>No Broadcast</td>\n",
       "    </tr>\n",
       "    <tr>\n",
       "      <th>947</th>\n",
       "      <td>7.82</td>\n",
       "      <td>3942</td>\n",
       "      <td>948</td>\n",
       "      <td>32</td>\n",
       "      <td>A stop-motion anime that will bundle with the ...</td>\n",
       "      <td>Haikyuu!!</td>\n",
       "      <td>OVA</td>\n",
       "      <td>10</td>\n",
       "      <td>Finished Airing</td>\n",
       "      <td>Shueisha</td>\n",
       "      <td>...</td>\n",
       "      <td>NaN</td>\n",
       "      <td>ShounenShounen</td>\n",
       "      <td>2 min. per ep.</td>\n",
       "      <td>PG-13 - Teens 13 or older</td>\n",
       "      <td>2020-03-04</td>\n",
       "      <td>NaT</td>\n",
       "      <td>Winter</td>\n",
       "      <td>2020</td>\n",
       "      <td>No Broadcast</td>\n",
       "      <td>No Broadcast</td>\n",
       "    </tr>\n",
       "  </tbody>\n",
       "</table>\n",
       "<p>3 rows × 23 columns</p>\n",
       "</div>"
      ],
      "text/plain": [
       "     Score  Popularity Rank  Members  \\\n",
       "669   7.97       11638  670        1   \n",
       "757   7.92        7671  758        6   \n",
       "947   7.82        3942  948       32   \n",
       "\n",
       "                                           Description  \\\n",
       "669  Animated short film about the backstory of the...   \n",
       "757  Marisa, an ordinary magician, suspects a youka...   \n",
       "947  A stop-motion anime that will bundle with the ...   \n",
       "\n",
       "                                               English Type  Episodes  \\\n",
       "669     Genshin Impact: The Song Burning in the Embers  ONA         1   \n",
       "757  Touhou Fantasy Kaleidoscope: The Memories of P...  OVA        18   \n",
       "947                                          Haikyuu!!  OVA        10   \n",
       "\n",
       "              Status    Producers  ...  \\\n",
       "669  Finished Airing  miHoYoAnime  ...   \n",
       "757  Finished Airing         <NA>  ...   \n",
       "947  Finished Airing     Shueisha  ...   \n",
       "\n",
       "                                       Genres     Demographic  \\\n",
       "669  ActionAction, DramaDrama, FantasyFantasy             NaN   \n",
       "757                                       NaN             NaN   \n",
       "947                                       NaN  ShounenShounen   \n",
       "\n",
       "            Duration                     Rating Aired start  Aired end  \\\n",
       "669           7 min.  PG-13 - Teens 13 or older  2024-04-17 2024-04-17   \n",
       "757  16 min. per ep.  PG-13 - Teens 13 or older  2011-08-12 2023-05-07   \n",
       "947   2 min. per ep.  PG-13 - Teens 13 or older  2020-03-04        NaT   \n",
       "\n",
       "    Premiere Season Premiere Year Broadcast day Broadcast time  \n",
       "669          Spring          2024  No Broadcast   No Broadcast  \n",
       "757          Summer          2011  No Broadcast   No Broadcast  \n",
       "947          Winter          2020  No Broadcast   No Broadcast  \n",
       "\n",
       "[3 rows x 23 columns]"
      ]
     },
     "execution_count": 58,
     "metadata": {},
     "output_type": "execute_result"
    }
   ],
   "source": [
    "mask = data['Studios'] == 'None found, add some'\n",
    "data[mask]"
   ]
  },
  {
   "cell_type": "code",
   "execution_count": 59,
   "id": "9643797b",
   "metadata": {},
   "outputs": [],
   "source": [
    "data.loc[mask, 'Studios'] = ['miHoYoAnime', 'Studio Massket', 'Production I.G']"
   ]
  },
  {
   "cell_type": "code",
   "execution_count": 60,
   "id": "e83b8c6d",
   "metadata": {},
   "outputs": [],
   "source": [
    "data['Studios'] = data['Studios'].str.split(', ').apply(lambda x: ', '.join(sorted(x)))"
   ]
  },
  {
   "cell_type": "code",
   "execution_count": 61,
   "id": "fe25a4e8",
   "metadata": {},
   "outputs": [],
   "source": [
    "data['Studios'] = data['Studios'].astype('string')"
   ]
  },
  {
   "cell_type": "markdown",
   "id": "73954baa",
   "metadata": {},
   "source": [
    "##### Колонка Source"
   ]
  },
  {
   "cell_type": "code",
   "execution_count": 62,
   "id": "001fa3f2",
   "metadata": {},
   "outputs": [
    {
     "data": {
      "text/plain": [
       "Manga           547\n",
       "Original        160\n",
       "Light novel     110\n",
       "Novel            63\n",
       "Web manga        32\n",
       "Visual novel     24\n",
       "4-koma manga     20\n",
       "Web novel        14\n",
       "Game             14\n",
       "Other             6\n",
       "Mixed media       6\n",
       "Book              1\n",
       "Unknown           1\n",
       "Music             1\n",
       "Picture book      1\n",
       "Name: Source, dtype: int64"
      ]
     },
     "execution_count": 62,
     "metadata": {},
     "output_type": "execute_result"
    }
   ],
   "source": [
    "data['Source'].value_counts()"
   ]
  },
  {
   "cell_type": "code",
   "execution_count": 63,
   "id": "a2816967",
   "metadata": {},
   "outputs": [
    {
     "data": {
      "image/png": "[encoded data removed]",
      "text/plain": [
       "<Figure size 640x480 with 1 Axes>"
      ]
     },
     "metadata": {},
     "output_type": "display_data"
    }
   ],
   "source": [
    "plot_bar(data['Source'])"
   ]
  },
  {
   "cell_type": "code",
   "execution_count": 64,
   "id": "0cda5310",
   "metadata": {},
   "outputs": [],
   "source": [
    "manga_categories = ['Manga', 'Web manga', '4-koma manga', 'Picture book']\n",
    "novel_categories = ['Light novel', 'Novel', 'Web novel', 'Visual novel']\n",
    "other_categories = ['Game', 'Music', 'Mixed media', 'Book', 'Other']\n",
    "\n",
    "\n",
    "data['Source'] = data['Source'].replace(manga_categories, 'Manga')\n",
    "data['Source'] = data['Source'].replace(novel_categories, 'Novel')\n",
    "data['Source'] = data['Source'].replace(other_categories, 'Other')"
   ]
  },
  {
   "cell_type": "code",
   "execution_count": 65,
   "id": "8ec22171",
   "metadata": {},
   "outputs": [
    {
     "data": {
      "text/html": [
       "<div>\n",
       "<style scoped>\n",
       "    .dataframe tbody tr th:only-of-type {\n",
       "        vertical-align: middle;\n",
       "    }\n",
       "\n",
       "    .dataframe tbody tr th {\n",
       "        vertical-align: top;\n",
       "    }\n",
       "\n",
       "    .dataframe thead th {\n",
       "        text-align: right;\n",
       "    }\n",
       "</style>\n",
       "<table border=\"1\" class=\"dataframe\">\n",
       "  <thead>\n",
       "    <tr style=\"text-align: right;\">\n",
       "      <th></th>\n",
       "      <th>Score</th>\n",
       "      <th>Popularity</th>\n",
       "      <th>Rank</th>\n",
       "      <th>Members</th>\n",
       "      <th>Description</th>\n",
       "      <th>English</th>\n",
       "      <th>Type</th>\n",
       "      <th>Episodes</th>\n",
       "      <th>Status</th>\n",
       "      <th>Producers</th>\n",
       "      <th>...</th>\n",
       "      <th>Genres</th>\n",
       "      <th>Demographic</th>\n",
       "      <th>Duration</th>\n",
       "      <th>Rating</th>\n",
       "      <th>Aired start</th>\n",
       "      <th>Aired end</th>\n",
       "      <th>Premiere Season</th>\n",
       "      <th>Premiere Year</th>\n",
       "      <th>Broadcast day</th>\n",
       "      <th>Broadcast time</th>\n",
       "    </tr>\n",
       "  </thead>\n",
       "  <tbody>\n",
       "    <tr>\n",
       "      <th>345</th>\n",
       "      <td>8.22</td>\n",
       "      <td>5293</td>\n",
       "      <td>346</td>\n",
       "      <td>15</td>\n",
       "      <td>Jealous of Suneo's new robot toy, Nobita asks ...</td>\n",
       "      <td>Doraemon: Nobita and the Steel Troops - The Ne...</td>\n",
       "      <td>Movie</td>\n",
       "      <td>1</td>\n",
       "      <td>Finished Airing</td>\n",
       "      <td>TV Asahi, Asatsu DK</td>\n",
       "      <td>...</td>\n",
       "      <td>AdventureAdventure, ComedyComedy, FantasyFantasy</td>\n",
       "      <td>NaN</td>\n",
       "      <td>1 hr. 48 min.</td>\n",
       "      <td>PG - Children</td>\n",
       "      <td>2011-03-05</td>\n",
       "      <td>2011-03-05</td>\n",
       "      <td>Winter</td>\n",
       "      <td>2011</td>\n",
       "      <td>No Broadcast</td>\n",
       "      <td>No Broadcast</td>\n",
       "    </tr>\n",
       "  </tbody>\n",
       "</table>\n",
       "<p>1 rows × 23 columns</p>\n",
       "</div>"
      ],
      "text/plain": [
       "     Score  Popularity Rank  Members  \\\n",
       "345   8.22        5293  346       15   \n",
       "\n",
       "                                           Description  \\\n",
       "345  Jealous of Suneo's new robot toy, Nobita asks ...   \n",
       "\n",
       "                                               English   Type  Episodes  \\\n",
       "345  Doraemon: Nobita and the Steel Troops - The Ne...  Movie         1   \n",
       "\n",
       "              Status            Producers  ...  \\\n",
       "345  Finished Airing  TV Asahi, Asatsu DK  ...   \n",
       "\n",
       "                                               Genres Demographic  \\\n",
       "345  AdventureAdventure, ComedyComedy, FantasyFantasy         NaN   \n",
       "\n",
       "          Duration         Rating Aired start  Aired end Premiere Season  \\\n",
       "345  1 hr. 48 min.  PG - Children  2011-03-05 2011-03-05          Winter   \n",
       "\n",
       "    Premiere Year Broadcast day Broadcast time  \n",
       "345          2011  No Broadcast   No Broadcast  \n",
       "\n",
       "[1 rows x 23 columns]"
      ]
     },
     "execution_count": 65,
     "metadata": {},
     "output_type": "execute_result"
    }
   ],
   "source": [
    "mask = (data['Source'] == 'Unknown')\n",
    "data[mask]"
   ]
  },
  {
   "cell_type": "code",
   "execution_count": 66,
   "id": "b9961b18",
   "metadata": {},
   "outputs": [],
   "source": [
    "data.loc[mask, 'Source'] = 'Manga'"
   ]
  },
  {
   "cell_type": "code",
   "execution_count": 67,
   "id": "6d41c10c",
   "metadata": {},
   "outputs": [],
   "source": [
    "data['Source'] = pd.Categorical(data['Source'])"
   ]
  },
  {
   "cell_type": "markdown",
   "id": "1d246f23",
   "metadata": {},
   "source": [
    "##### Колонка Genres "
   ]
  },
  {
   "cell_type": "code",
   "execution_count": 68,
   "id": "3bf34996",
   "metadata": {},
   "outputs": [
    {
     "data": {
      "text/plain": [
       "0         AdventureAdventure, DramaDrama, FantasyFantasy\n",
       "1      ActionAction, AdventureAdventure, DramaDrama, ...\n",
       "2             DramaDrama, Sci-FiSci-Fi, SuspenseSuspense\n",
       "3               ActionAction, ComedyComedy, Sci-FiSci-Fi\n",
       "4             ActionAction, DramaDrama, SuspenseSuspense\n",
       "                             ...                        \n",
       "995           ActionAction, RomanceRomance, Sci-FiSci-Fi\n",
       "996     ActionAction, AdventureAdventure, FantasyFantasy\n",
       "997     AdventureAdventure, ComedyComedy, MysteryMystery\n",
       "998     AdventureAdventure, ComedyComedy, MysteryMystery\n",
       "999                                                  NaN\n",
       "Name: Genres, Length: 1000, dtype: object"
      ]
     },
     "execution_count": 68,
     "metadata": {},
     "output_type": "execute_result"
    }
   ],
   "source": [
    "data['Genres']"
   ]
  },
  {
   "cell_type": "code",
   "execution_count": 69,
   "id": "0e785d43",
   "metadata": {},
   "outputs": [
    {
     "data": {
      "text/plain": [
       "0            Adventure, Drama, Fantasy\n",
       "1    Action, Adventure, Drama, Fantasy\n",
       "2              Drama, Sci-Fi, Suspense\n",
       "3               Action, Comedy, Sci-Fi\n",
       "4              Action, Drama, Suspense\n",
       "Name: Genres, dtype: object"
      ]
     },
     "execution_count": 69,
     "metadata": {},
     "output_type": "execute_result"
    }
   ],
   "source": [
    "mask = ~data['Genres'].isna()\n",
    "\n",
    "data.loc[mask, 'Genres'] = data.loc[mask, 'Genres'].str.split(', ').apply(\n",
    "    lambda genres: ', '.join([genre[:len(genre) // 2] for genre in genres])\n",
    ")\n",
    "data['Genres'].head(5)"
   ]
  },
  {
   "cell_type": "markdown",
   "id": "5174162d",
   "metadata": {},
   "source": [
    "Заполним пропуски:"
   ]
  },
  {
   "cell_type": "code",
   "execution_count": 70,
   "id": "820282bd",
   "metadata": {},
   "outputs": [
    {
     "data": {
      "application/vnd.jupyter.widget-view+json": {
       "model_id": "288fd7fcdde24f6d9d2ac3eaaae36d2d",
       "version_major": 2,
       "version_minor": 0
      },
      "text/plain": [
       "Getting genres:   0%|          | 0/229 [00:00<?, ?it/s]"
      ]
     },
     "metadata": {},
     "output_type": "display_data"
    },
    {
     "data": {
      "application/vnd.jupyter.widget-view+json": {
       "model_id": "1a00ec6ed6d04821a8f8846e9e271e08",
       "version_major": 2,
       "version_minor": 0
      },
      "text/plain": [
       "Getting genres:   0%|          | 0/16 [00:00<?, ?it/s]"
      ]
     },
     "metadata": {},
     "output_type": "display_data"
    }
   ],
   "source": [
    "for _ in range(2):\n",
    "    mask = data['Genres'].isna()\n",
    "    data.loc[mask, 'Genres'] = pd.Series(\n",
    "        [anime_details.get_anime_genres(name) for name in tqdm(data.loc[mask, 'English'], desc='Getting genres')]\n",
    "    ).values"
   ]
  },
  {
   "cell_type": "code",
   "execution_count": 71,
   "id": "ee954862",
   "metadata": {},
   "outputs": [
    {
     "data": {
      "text/html": [
       "<div>\n",
       "<style scoped>\n",
       "    .dataframe tbody tr th:only-of-type {\n",
       "        vertical-align: middle;\n",
       "    }\n",
       "\n",
       "    .dataframe tbody tr th {\n",
       "        vertical-align: top;\n",
       "    }\n",
       "\n",
       "    .dataframe thead th {\n",
       "        text-align: right;\n",
       "    }\n",
       "</style>\n",
       "<table border=\"1\" class=\"dataframe\">\n",
       "  <thead>\n",
       "    <tr style=\"text-align: right;\">\n",
       "      <th></th>\n",
       "      <th>Score</th>\n",
       "      <th>Popularity</th>\n",
       "      <th>Rank</th>\n",
       "      <th>Members</th>\n",
       "      <th>Description</th>\n",
       "      <th>English</th>\n",
       "      <th>Type</th>\n",
       "      <th>Episodes</th>\n",
       "      <th>Status</th>\n",
       "      <th>Producers</th>\n",
       "      <th>...</th>\n",
       "      <th>Genres</th>\n",
       "      <th>Demographic</th>\n",
       "      <th>Duration</th>\n",
       "      <th>Rating</th>\n",
       "      <th>Aired start</th>\n",
       "      <th>Aired end</th>\n",
       "      <th>Premiere Season</th>\n",
       "      <th>Premiere Year</th>\n",
       "      <th>Broadcast day</th>\n",
       "      <th>Broadcast time</th>\n",
       "    </tr>\n",
       "  </thead>\n",
       "  <tbody>\n",
       "    <tr>\n",
       "      <th>249</th>\n",
       "      <td>8.32</td>\n",
       "      <td>3433</td>\n",
       "      <td>250</td>\n",
       "      <td>42</td>\n",
       "      <td>With university entrance exams and graduation ...</td>\n",
       "      <td>Sasaki and Miyano: Graduation</td>\n",
       "      <td>Movie</td>\n",
       "      <td>1</td>\n",
       "      <td>Finished Airing</td>\n",
       "      <td>Frontier Works, Movic, Nippon Columbia, U-NEXT...</td>\n",
       "      <td>...</td>\n",
       "      <td>None</td>\n",
       "      <td>NaN</td>\n",
       "      <td>51 min.</td>\n",
       "      <td>PG-13 - Teens 13 or older</td>\n",
       "      <td>2023-02-17</td>\n",
       "      <td>2023-02-17</td>\n",
       "      <td>Winter</td>\n",
       "      <td>2023</td>\n",
       "      <td>No Broadcast</td>\n",
       "      <td>No Broadcast</td>\n",
       "    </tr>\n",
       "    <tr>\n",
       "      <th>344</th>\n",
       "      <td>8.22</td>\n",
       "      <td>1230</td>\n",
       "      <td>345</td>\n",
       "      <td>194</td>\n",
       "      <td>Yoshikazu Miyano's troubles first start one ho...</td>\n",
       "      <td>Sasaki and Miyano</td>\n",
       "      <td>TV</td>\n",
       "      <td>12</td>\n",
       "      <td>Finished Airing</td>\n",
       "      <td>Frontier Works, Movic, Nippon Columbia, Sound ...</td>\n",
       "      <td>...</td>\n",
       "      <td>None</td>\n",
       "      <td>NaN</td>\n",
       "      <td>23 min. per ep.</td>\n",
       "      <td>PG-13 - Teens 13 or older</td>\n",
       "      <td>2022-01-10</td>\n",
       "      <td>2022-03-28</td>\n",
       "      <td>Winter</td>\n",
       "      <td>2022</td>\n",
       "      <td>Monday</td>\n",
       "      <td>00:30</td>\n",
       "    </tr>\n",
       "    <tr>\n",
       "      <th>417</th>\n",
       "      <td>8.17</td>\n",
       "      <td>457</td>\n",
       "      <td>418</td>\n",
       "      <td>490</td>\n",
       "      <td>The number of terrorist acts in Japan has neve...</td>\n",
       "      <td>Lycoris Recoil</td>\n",
       "      <td>TV</td>\n",
       "      <td>13</td>\n",
       "      <td>Finished Airing</td>\n",
       "      <td>Aniplex, BS11, ABC Animation</td>\n",
       "      <td>...</td>\n",
       "      <td>None</td>\n",
       "      <td>NaN</td>\n",
       "      <td>24 min. per ep.</td>\n",
       "      <td>PG-13 - Teens 13 or older</td>\n",
       "      <td>2022-07-02</td>\n",
       "      <td>2022-09-24</td>\n",
       "      <td>Summer</td>\n",
       "      <td>2022</td>\n",
       "      <td>Saturday</td>\n",
       "      <td>23:30</td>\n",
       "    </tr>\n",
       "    <tr>\n",
       "      <th>469</th>\n",
       "      <td>8.12</td>\n",
       "      <td>2964</td>\n",
       "      <td>470</td>\n",
       "      <td>55</td>\n",
       "      <td>Four young women—an artist who quit drawing, a...</td>\n",
       "      <td>Jellyfish Can't Swim in the Night</td>\n",
       "      <td>TV</td>\n",
       "      <td>12</td>\n",
       "      <td>Currently Airing</td>\n",
       "      <td>Movic, KlockWorx, Asmik Ace, Tohokushinsha Fil...</td>\n",
       "      <td>...</td>\n",
       "      <td>None</td>\n",
       "      <td>NaN</td>\n",
       "      <td>23 min. per ep.</td>\n",
       "      <td>PG-13 - Teens 13 or older</td>\n",
       "      <td>2024-04-07</td>\n",
       "      <td>2024-09-10</td>\n",
       "      <td>Spring</td>\n",
       "      <td>2024</td>\n",
       "      <td>Sunday</td>\n",
       "      <td>01:00</td>\n",
       "    </tr>\n",
       "    <tr>\n",
       "      <th>670</th>\n",
       "      <td>7.97</td>\n",
       "      <td>2303</td>\n",
       "      <td>671</td>\n",
       "      <td>84</td>\n",
       "      <td>In his exhibition performance for the Grand Pr...</td>\n",
       "      <td>Yuri!!! On ICE: Yuri Plisetsky GPF in Barcelon...</td>\n",
       "      <td>Special</td>\n",
       "      <td>1</td>\n",
       "      <td>Finished Airing</td>\n",
       "      <td>Avex Pictures</td>\n",
       "      <td>...</td>\n",
       "      <td>None</td>\n",
       "      <td>NaN</td>\n",
       "      <td>2 min.</td>\n",
       "      <td>PG-13 - Teens 13 or older</td>\n",
       "      <td>2017-05-26</td>\n",
       "      <td>2017-05-26</td>\n",
       "      <td>Spring</td>\n",
       "      <td>2017</td>\n",
       "      <td>No Broadcast</td>\n",
       "      <td>No Broadcast</td>\n",
       "    </tr>\n",
       "    <tr>\n",
       "      <th>781</th>\n",
       "      <td>7.90</td>\n",
       "      <td>4687</td>\n",
       "      <td>782</td>\n",
       "      <td>21</td>\n",
       "      <td>An OVA of SKET Dance bundled with the 29th vol...</td>\n",
       "      <td>SKET Dance: Imouto no Nayami ni Nayamu Ani ni ...</td>\n",
       "      <td>OVA</td>\n",
       "      <td>1</td>\n",
       "      <td>Finished Airing</td>\n",
       "      <td>Shueisha</td>\n",
       "      <td>...</td>\n",
       "      <td>None</td>\n",
       "      <td>ShounenShounen</td>\n",
       "      <td>27 min.</td>\n",
       "      <td>PG-13 - Teens 13 or older</td>\n",
       "      <td>2013-02-04</td>\n",
       "      <td>2013-02-04</td>\n",
       "      <td>Winter</td>\n",
       "      <td>2013</td>\n",
       "      <td>No Broadcast</td>\n",
       "      <td>No Broadcast</td>\n",
       "    </tr>\n",
       "    <tr>\n",
       "      <th>988</th>\n",
       "      <td>7.81</td>\n",
       "      <td>2741</td>\n",
       "      <td>989</td>\n",
       "      <td>63</td>\n",
       "      <td>Yori Asanagi is a mature girl in many ways but...</td>\n",
       "      <td>Whisper Me a Love Song</td>\n",
       "      <td>TV</td>\n",
       "      <td>12</td>\n",
       "      <td>Currently Airing</td>\n",
       "      <td>TV Asahi, NBCUniversal Entertainment Japan, Yo...</td>\n",
       "      <td>...</td>\n",
       "      <td>None</td>\n",
       "      <td>NaN</td>\n",
       "      <td>23 min. per ep.</td>\n",
       "      <td>PG-13 - Teens 13 or older</td>\n",
       "      <td>2024-04-14</td>\n",
       "      <td>2024-09-10</td>\n",
       "      <td>Spring</td>\n",
       "      <td>2024</td>\n",
       "      <td>Sunday</td>\n",
       "      <td>01:30</td>\n",
       "    </tr>\n",
       "  </tbody>\n",
       "</table>\n",
       "<p>7 rows × 23 columns</p>\n",
       "</div>"
      ],
      "text/plain": [
       "     Score  Popularity Rank  Members  \\\n",
       "249   8.32        3433  250       42   \n",
       "344   8.22        1230  345      194   \n",
       "417   8.17         457  418      490   \n",
       "469   8.12        2964  470       55   \n",
       "670   7.97        2303  671       84   \n",
       "781   7.90        4687  782       21   \n",
       "988   7.81        2741  989       63   \n",
       "\n",
       "                                           Description  \\\n",
       "249  With university entrance exams and graduation ...   \n",
       "344  Yoshikazu Miyano's troubles first start one ho...   \n",
       "417  The number of terrorist acts in Japan has neve...   \n",
       "469  Four young women—an artist who quit drawing, a...   \n",
       "670  In his exhibition performance for the Grand Pr...   \n",
       "781  An OVA of SKET Dance bundled with the 29th vol...   \n",
       "988  Yori Asanagi is a mature girl in many ways but...   \n",
       "\n",
       "                                               English     Type  Episodes  \\\n",
       "249                      Sasaki and Miyano: Graduation    Movie         1   \n",
       "344                                  Sasaki and Miyano       TV        12   \n",
       "417                                     Lycoris Recoil       TV        13   \n",
       "469                  Jellyfish Can't Swim in the Night       TV        12   \n",
       "670  Yuri!!! On ICE: Yuri Plisetsky GPF in Barcelon...  Special         1   \n",
       "781  SKET Dance: Imouto no Nayami ni Nayamu Ani ni ...      OVA         1   \n",
       "988                             Whisper Me a Love Song       TV        12   \n",
       "\n",
       "               Status                                          Producers  ...  \\\n",
       "249   Finished Airing  Frontier Works, Movic, Nippon Columbia, U-NEXT...  ...   \n",
       "344   Finished Airing  Frontier Works, Movic, Nippon Columbia, Sound ...  ...   \n",
       "417   Finished Airing                       Aniplex, BS11, ABC Animation  ...   \n",
       "469  Currently Airing  Movic, KlockWorx, Asmik Ace, Tohokushinsha Fil...  ...   \n",
       "670   Finished Airing                                      Avex Pictures  ...   \n",
       "781   Finished Airing                                           Shueisha  ...   \n",
       "988  Currently Airing  TV Asahi, NBCUniversal Entertainment Japan, Yo...  ...   \n",
       "\n",
       "    Genres     Demographic         Duration                     Rating  \\\n",
       "249   None             NaN          51 min.  PG-13 - Teens 13 or older   \n",
       "344   None             NaN  23 min. per ep.  PG-13 - Teens 13 or older   \n",
       "417   None             NaN  24 min. per ep.  PG-13 - Teens 13 or older   \n",
       "469   None             NaN  23 min. per ep.  PG-13 - Teens 13 or older   \n",
       "670   None             NaN           2 min.  PG-13 - Teens 13 or older   \n",
       "781   None  ShounenShounen          27 min.  PG-13 - Teens 13 or older   \n",
       "988   None             NaN  23 min. per ep.  PG-13 - Teens 13 or older   \n",
       "\n",
       "    Aired start  Aired end Premiere Season Premiere Year Broadcast day  \\\n",
       "249  2023-02-17 2023-02-17          Winter          2023  No Broadcast   \n",
       "344  2022-01-10 2022-03-28          Winter          2022        Monday   \n",
       "417  2022-07-02 2022-09-24          Summer          2022      Saturday   \n",
       "469  2024-04-07 2024-09-10          Spring          2024        Sunday   \n",
       "670  2017-05-26 2017-05-26          Spring          2017  No Broadcast   \n",
       "781  2013-02-04 2013-02-04          Winter          2013  No Broadcast   \n",
       "988  2024-04-14 2024-09-10          Spring          2024        Sunday   \n",
       "\n",
       "    Broadcast time  \n",
       "249   No Broadcast  \n",
       "344          00:30  \n",
       "417          23:30  \n",
       "469          01:00  \n",
       "670   No Broadcast  \n",
       "781   No Broadcast  \n",
       "988          01:30  \n",
       "\n",
       "[7 rows x 23 columns]"
      ]
     },
     "execution_count": 71,
     "metadata": {},
     "output_type": "execute_result"
    }
   ],
   "source": [
    "mask = data['Genres'].isna()\n",
    "data[mask]"
   ]
  },
  {
   "cell_type": "code",
   "execution_count": 72,
   "id": "c2b0dabd",
   "metadata": {},
   "outputs": [
    {
     "data": {
      "text/plain": [
       "249                        Sasaki and Miyano: Graduation\n",
       "344                                    Sasaki and Miyano\n",
       "417                                       Lycoris Recoil\n",
       "469                    Jellyfish Can't Swim in the Night\n",
       "670    Yuri!!! On ICE: Yuri Plisetsky GPF in Barcelon...\n",
       "781    SKET Dance: Imouto no Nayami ni Nayamu Ani ni ...\n",
       "988                               Whisper Me a Love Song\n",
       "Name: English, dtype: string"
      ]
     },
     "execution_count": 72,
     "metadata": {},
     "output_type": "execute_result"
    }
   ],
   "source": [
    "mask = data['Genres'].isna()\n",
    "data[mask]['English']"
   ]
  },
  {
   "cell_type": "markdown",
   "id": "eb814226",
   "metadata": {},
   "source": [
    "Заполним оставшиеся пропуски вручную"
   ]
  },
  {
   "cell_type": "code",
   "execution_count": 73,
   "id": "92d7c122",
   "metadata": {},
   "outputs": [],
   "source": [
    "mask = data['Genres'].isna()\n",
    "\n",
    "data.loc[mask, 'Genres'] = pd.Series([\n",
    "    'Boys Love',\n",
    "    'Boys Love',\n",
    "    'Action',\n",
    "    'Music, Showbiz, Slice of Life',\n",
    "    'Award Winning, Sports',\n",
    "    'Comedy',\n",
    "    'Girls Love'    \n",
    "]).values"
   ]
  },
  {
   "cell_type": "code",
   "execution_count": 74,
   "id": "3c93914c",
   "metadata": {},
   "outputs": [],
   "source": [
    "data['Genres'] = data['Genres'].str.split(', ').apply(lambda x: ', '.join(sorted(x)))"
   ]
  },
  {
   "cell_type": "code",
   "execution_count": 75,
   "id": "4e5253b9",
   "metadata": {},
   "outputs": [],
   "source": [
    "data['Genres'] = data['Genres'].astype('string')"
   ]
  },
  {
   "cell_type": "markdown",
   "id": "70d765dc",
   "metadata": {},
   "source": [
    "##### Колонка Demographic"
   ]
  },
  {
   "cell_type": "code",
   "execution_count": 76,
   "id": "fccf0e22",
   "metadata": {
    "scrolled": true
   },
   "outputs": [
    {
     "data": {
      "text/plain": [
       "array(['ShounenShounen', nan, 'SeinenSeinen', 'ShoujoShoujo',\n",
       "       'JoseiJosei', 'KidsKids'], dtype=object)"
      ]
     },
     "execution_count": 76,
     "metadata": {},
     "output_type": "execute_result"
    }
   ],
   "source": [
    "data['Demographic'].unique()"
   ]
  },
  {
   "cell_type": "code",
   "execution_count": 77,
   "id": "4153f626",
   "metadata": {},
   "outputs": [],
   "source": [
    "mask = ~data['Demographic'].isna()\n",
    "data.loc[mask, 'Demographic'] = data.loc[mask, 'Demographic'].apply(lambda x: x[0:len(x)//2])"
   ]
  },
  {
   "cell_type": "code",
   "execution_count": 78,
   "id": "60503206",
   "metadata": {},
   "outputs": [],
   "source": [
    "data['Demographic'] = data['Demographic'].astype('category')"
   ]
  },
  {
   "cell_type": "code",
   "execution_count": 79,
   "id": "586c07f2",
   "metadata": {},
   "outputs": [
    {
     "data": {
      "image/png": "[encoded data removed]",
      "text/plain": [
       "<Figure size 640x480 with 1 Axes>"
      ]
     },
     "metadata": {},
     "output_type": "display_data"
    }
   ],
   "source": [
    "plot_donut_chart(data, 'Demographic')"
   ]
  },
  {
   "cell_type": "markdown",
   "id": "25dea04c",
   "metadata": {},
   "source": [
    "##### Колонка Duration"
   ]
  },
  {
   "cell_type": "code",
   "execution_count": 80,
   "id": "0ea90374",
   "metadata": {},
   "outputs": [
    {
     "data": {
      "text/plain": [
       "array(['24 min. per ep.', '23 min. per ep.', '1 hr. 44 min.',\n",
       "       '26 min. per ep.', '2 hr. 10 min.', '22 min. per ep.',\n",
       "       '25 min. per ep.', '1 hr. 50 min.', '1 hr. 12 min. per ep.',\n",
       "       '2 hr. 20 min.', '1 hr. 46 min.', '2 hr. 4 min.', '1 hr. 36 min.',\n",
       "       '1 hr. 23 min.', '24 min.', '29 min. per ep.', '30 min. per ep.',\n",
       "       '2 hr. 2 min.', '1 hr. 59 min.', '2 hr. 13 min.'], dtype=object)"
      ]
     },
     "execution_count": 80,
     "metadata": {},
     "output_type": "execute_result"
    }
   ],
   "source": [
    "data['Duration'].unique()[:20]"
   ]
  },
  {
   "cell_type": "code",
   "execution_count": 81,
   "id": "83e9c0ee",
   "metadata": {},
   "outputs": [],
   "source": [
    "def to_minutes(duration):\n",
    "    \n",
    "    regex = r'(\\d+)\\s*(hr|min)\\.?'\n",
    "    time = 0\n",
    "    \n",
    "    for t in re.findall(regex, duration):\n",
    "        if t[1] == 'min':\n",
    "            time += int(t[0])\n",
    "        else:\n",
    "            time += int(t[0]) * 60\n",
    "    return time"
   ]
  },
  {
   "cell_type": "code",
   "execution_count": 82,
   "id": "5c7d7eee",
   "metadata": {},
   "outputs": [],
   "source": [
    "data['Duration minutes'] = data['Duration'].apply(to_minutes)\n",
    "data.drop('Duration', axis=1, inplace=True)"
   ]
  },
  {
   "cell_type": "markdown",
   "id": "e531f4ec",
   "metadata": {},
   "source": [
    "##### Колонка Raiting"
   ]
  },
  {
   "cell_type": "code",
   "execution_count": 83,
   "id": "bdd8b202",
   "metadata": {},
   "outputs": [
    {
     "data": {
      "text/plain": [
       "array(['PG-13 - Teens 13 or older', 'R - 17+ (violence & profanity)',\n",
       "       'R+ - Mild Nudity', 'PG - Children', 'G - All Ages'], dtype=object)"
      ]
     },
     "execution_count": 83,
     "metadata": {},
     "output_type": "execute_result"
    }
   ],
   "source": [
    "data['Rating'].unique()"
   ]
  },
  {
   "cell_type": "code",
   "execution_count": 84,
   "id": "dd9a05ea",
   "metadata": {},
   "outputs": [],
   "source": [
    "data['Rating'] = pd.Categorical(data['Rating'])"
   ]
  },
  {
   "cell_type": "markdown",
   "id": "df9cd406",
   "metadata": {},
   "source": [
    "## Итоговый датасет"
   ]
  },
  {
   "cell_type": "code",
   "execution_count": 85,
   "id": "1e34b5c3",
   "metadata": {},
   "outputs": [
    {
     "name": "stdout",
     "output_type": "stream",
     "text": [
      "<class 'pandas.core.frame.DataFrame'>\n",
      "RangeIndex: 1000 entries, 0 to 999\n",
      "Data columns (total 23 columns):\n",
      " #   Column            Non-Null Count  Dtype         \n",
      "---  ------            --------------  -----         \n",
      " 0   Score             1000 non-null   float64       \n",
      " 1   Popularity        1000 non-null   int64         \n",
      " 2   Rank              1000 non-null   category      \n",
      " 3   Members           1000 non-null   int64         \n",
      " 4   Description       1000 non-null   string        \n",
      " 5   English           1000 non-null   string        \n",
      " 6   Type              1000 non-null   category      \n",
      " 7   Episodes          1000 non-null   int64         \n",
      " 8   Status            1000 non-null   category      \n",
      " 9   Producers         889 non-null    string        \n",
      " 10  Licensors         631 non-null    string        \n",
      " 11  Studios           1000 non-null   string        \n",
      " 12  Source            1000 non-null   category      \n",
      " 13  Genres            1000 non-null   string        \n",
      " 14  Demographic       521 non-null    category      \n",
      " 15  Rating            1000 non-null   category      \n",
      " 16  Aired start       1000 non-null   datetime64[ns]\n",
      " 17  Aired end         976 non-null    datetime64[ns]\n",
      " 18  Premiere Season   1000 non-null   category      \n",
      " 19  Premiere Year     1000 non-null   category      \n",
      " 20  Broadcast day     942 non-null    category      \n",
      " 21  Broadcast time    937 non-null    category      \n",
      " 22  Duration minutes  1000 non-null   int64         \n",
      "dtypes: category(10), datetime64[ns](2), float64(1), int64(4), string(6)\n",
      "memory usage: 158.1 KB\n"
     ]
    }
   ],
   "source": [
    "data.info()"
   ]
  },
  {
   "cell_type": "code",
   "execution_count": 86,
   "id": "4421cfd7",
   "metadata": {},
   "outputs": [],
   "source": [
    "data = data[[\n",
    "    'English',\n",
    "    'Description',\n",
    "    'Type',\n",
    "    'Episodes',\n",
    "    'Status',\n",
    "    'Aired start',\n",
    "    'Aired end',\n",
    "    'Premiere Season',\n",
    "    'Premiere Year',\n",
    "    'Broadcast day',\n",
    "    'Broadcast time',\n",
    "    'Producers',\n",
    "    'Licensors',\n",
    "    'Studios',\n",
    "    'Source',\n",
    "    'Genres',\n",
    "    'Demographic',\n",
    "    'Duration minutes',\n",
    "    'Rating',\n",
    "    'Score',\n",
    "    'Popularity',\n",
    "    'Rank',\n",
    "    'Members'\n",
    "]]"
   ]
  },
  {
   "cell_type": "code",
   "execution_count": 87,
   "id": "a6ee1642",
   "metadata": {},
   "outputs": [
    {
     "data": {
      "text/html": [
       "<div>\n",
       "<style scoped>\n",
       "    .dataframe tbody tr th:only-of-type {\n",
       "        vertical-align: middle;\n",
       "    }\n",
       "\n",
       "    .dataframe tbody tr th {\n",
       "        vertical-align: top;\n",
       "    }\n",
       "\n",
       "    .dataframe thead th {\n",
       "        text-align: right;\n",
       "    }\n",
       "</style>\n",
       "<table border=\"1\" class=\"dataframe\">\n",
       "  <thead>\n",
       "    <tr style=\"text-align: right;\">\n",
       "      <th></th>\n",
       "      <th>English</th>\n",
       "      <th>Description</th>\n",
       "      <th>Type</th>\n",
       "      <th>Episodes</th>\n",
       "      <th>Status</th>\n",
       "      <th>Aired start</th>\n",
       "      <th>Aired end</th>\n",
       "      <th>Premiere Season</th>\n",
       "      <th>Premiere Year</th>\n",
       "      <th>Broadcast day</th>\n",
       "      <th>...</th>\n",
       "      <th>Studios</th>\n",
       "      <th>Source</th>\n",
       "      <th>Genres</th>\n",
       "      <th>Demographic</th>\n",
       "      <th>Duration minutes</th>\n",
       "      <th>Rating</th>\n",
       "      <th>Score</th>\n",
       "      <th>Popularity</th>\n",
       "      <th>Rank</th>\n",
       "      <th>Members</th>\n",
       "    </tr>\n",
       "  </thead>\n",
       "  <tbody>\n",
       "    <tr>\n",
       "      <th>0</th>\n",
       "      <td>Frieren: Beyond Journey's End</td>\n",
       "      <td>During their decade-long quest to defeat the D...</td>\n",
       "      <td>TV</td>\n",
       "      <td>28</td>\n",
       "      <td>Finished Airing</td>\n",
       "      <td>2023-09-29</td>\n",
       "      <td>2024-03-22</td>\n",
       "      <td>Fall</td>\n",
       "      <td>2023</td>\n",
       "      <td>Friday</td>\n",
       "      <td>...</td>\n",
       "      <td>Madhouse</td>\n",
       "      <td>Manga</td>\n",
       "      <td>Adventure, Drama, Fantasy</td>\n",
       "      <td>Shounen</td>\n",
       "      <td>24</td>\n",
       "      <td>PG-13 - Teens 13 or older</td>\n",
       "      <td>9.38</td>\n",
       "      <td>284</td>\n",
       "      <td>1</td>\n",
       "      <td>710</td>\n",
       "    </tr>\n",
       "    <tr>\n",
       "      <th>1</th>\n",
       "      <td>Fullmetal Alchemist: Brotherhood</td>\n",
       "      <td>After a horrific alchemy experiment goes wrong...</td>\n",
       "      <td>TV</td>\n",
       "      <td>64</td>\n",
       "      <td>Finished Airing</td>\n",
       "      <td>2009-04-05</td>\n",
       "      <td>2010-07-04</td>\n",
       "      <td>Spring</td>\n",
       "      <td>2009</td>\n",
       "      <td>Sunday</td>\n",
       "      <td>...</td>\n",
       "      <td>Bones</td>\n",
       "      <td>Manga</td>\n",
       "      <td>Action, Adventure, Drama, Fantasy</td>\n",
       "      <td>Shounen</td>\n",
       "      <td>24</td>\n",
       "      <td>R - 17+ (violence &amp; profanity)</td>\n",
       "      <td>9.09</td>\n",
       "      <td>3</td>\n",
       "      <td>2</td>\n",
       "      <td>3</td>\n",
       "    </tr>\n",
       "    <tr>\n",
       "      <th>2</th>\n",
       "      <td>Steins;Gate</td>\n",
       "      <td>Eccentric scientist Rintarou Okabe has a never...</td>\n",
       "      <td>TV</td>\n",
       "      <td>24</td>\n",
       "      <td>Finished Airing</td>\n",
       "      <td>2011-04-06</td>\n",
       "      <td>2011-09-14</td>\n",
       "      <td>Spring</td>\n",
       "      <td>2011</td>\n",
       "      <td>Wednesday</td>\n",
       "      <td>...</td>\n",
       "      <td>White Fox</td>\n",
       "      <td>Novel</td>\n",
       "      <td>Drama, Sci-Fi, Suspense</td>\n",
       "      <td>NaN</td>\n",
       "      <td>24</td>\n",
       "      <td>PG-13 - Teens 13 or older</td>\n",
       "      <td>9.07</td>\n",
       "      <td>13</td>\n",
       "      <td>3</td>\n",
       "      <td>2</td>\n",
       "    </tr>\n",
       "    <tr>\n",
       "      <th>3</th>\n",
       "      <td>Gintama Season 4</td>\n",
       "      <td>Gintoki, Shinpachi, and Kagura return as the f...</td>\n",
       "      <td>TV</td>\n",
       "      <td>51</td>\n",
       "      <td>Finished Airing</td>\n",
       "      <td>2015-04-08</td>\n",
       "      <td>2016-03-30</td>\n",
       "      <td>Spring</td>\n",
       "      <td>2015</td>\n",
       "      <td>Wednesday</td>\n",
       "      <td>...</td>\n",
       "      <td>Bandai Namco Pictures</td>\n",
       "      <td>Manga</td>\n",
       "      <td>Action, Comedy, Sci-Fi</td>\n",
       "      <td>Shounen</td>\n",
       "      <td>24</td>\n",
       "      <td>PG-13 - Teens 13 or older</td>\n",
       "      <td>9.06</td>\n",
       "      <td>342</td>\n",
       "      <td>4</td>\n",
       "      <td>630</td>\n",
       "    </tr>\n",
       "    <tr>\n",
       "      <th>4</th>\n",
       "      <td>Attack on Titan Season 3 Part 2</td>\n",
       "      <td>Seeking to restore humanity's diminishing hope...</td>\n",
       "      <td>TV</td>\n",
       "      <td>10</td>\n",
       "      <td>Finished Airing</td>\n",
       "      <td>2019-04-29</td>\n",
       "      <td>2019-07-01</td>\n",
       "      <td>Spring</td>\n",
       "      <td>2019</td>\n",
       "      <td>Monday</td>\n",
       "      <td>...</td>\n",
       "      <td>Wit Studio</td>\n",
       "      <td>Manga</td>\n",
       "      <td>Action, Drama, Suspense</td>\n",
       "      <td>Shounen</td>\n",
       "      <td>23</td>\n",
       "      <td>R - 17+ (violence &amp; profanity)</td>\n",
       "      <td>9.05</td>\n",
       "      <td>21</td>\n",
       "      <td>5</td>\n",
       "      <td>2</td>\n",
       "    </tr>\n",
       "  </tbody>\n",
       "</table>\n",
       "<p>5 rows × 23 columns</p>\n",
       "</div>"
      ],
      "text/plain": [
       "                            English  \\\n",
       "0     Frieren: Beyond Journey's End   \n",
       "1  Fullmetal Alchemist: Brotherhood   \n",
       "2                       Steins;Gate   \n",
       "3                  Gintama Season 4   \n",
       "4   Attack on Titan Season 3 Part 2   \n",
       "\n",
       "                                         Description Type  Episodes  \\\n",
       "0  During their decade-long quest to defeat the D...   TV        28   \n",
       "1  After a horrific alchemy experiment goes wrong...   TV        64   \n",
       "2  Eccentric scientist Rintarou Okabe has a never...   TV        24   \n",
       "3  Gintoki, Shinpachi, and Kagura return as the f...   TV        51   \n",
       "4  Seeking to restore humanity's diminishing hope...   TV        10   \n",
       "\n",
       "            Status Aired start  Aired end Premiere Season Premiere Year  \\\n",
       "0  Finished Airing  2023-09-29 2024-03-22            Fall          2023   \n",
       "1  Finished Airing  2009-04-05 2010-07-04          Spring          2009   \n",
       "2  Finished Airing  2011-04-06 2011-09-14          Spring          2011   \n",
       "3  Finished Airing  2015-04-08 2016-03-30          Spring          2015   \n",
       "4  Finished Airing  2019-04-29 2019-07-01          Spring          2019   \n",
       "\n",
       "  Broadcast day  ...                Studios Source  \\\n",
       "0        Friday  ...               Madhouse  Manga   \n",
       "1        Sunday  ...                  Bones  Manga   \n",
       "2     Wednesday  ...              White Fox  Novel   \n",
       "3     Wednesday  ...  Bandai Namco Pictures  Manga   \n",
       "4        Monday  ...             Wit Studio  Manga   \n",
       "\n",
       "                              Genres Demographic Duration minutes  \\\n",
       "0          Adventure, Drama, Fantasy     Shounen               24   \n",
       "1  Action, Adventure, Drama, Fantasy     Shounen               24   \n",
       "2            Drama, Sci-Fi, Suspense         NaN               24   \n",
       "3             Action, Comedy, Sci-Fi     Shounen               24   \n",
       "4            Action, Drama, Suspense     Shounen               23   \n",
       "\n",
       "                           Rating Score  Popularity Rank  Members  \n",
       "0       PG-13 - Teens 13 or older  9.38         284    1      710  \n",
       "1  R - 17+ (violence & profanity)  9.09           3    2        3  \n",
       "2       PG-13 - Teens 13 or older  9.07          13    3        2  \n",
       "3       PG-13 - Teens 13 or older  9.06         342    4      630  \n",
       "4  R - 17+ (violence & profanity)  9.05          21    5        2  \n",
       "\n",
       "[5 rows x 23 columns]"
      ]
     },
     "execution_count": 87,
     "metadata": {},
     "output_type": "execute_result"
    }
   ],
   "source": [
    "data.head(5)"
   ]
  },
  {
   "cell_type": "code",
   "execution_count": 88,
   "id": "8c57c0d0",
   "metadata": {},
   "outputs": [],
   "source": [
    "# Сохраняем итоговый датасет\n",
    "data.to_csv('../data/processed/Top_Anime_data_clean.csv', index=False)"
   ]
  }
 ],
 "metadata": {
  "kernelspec": {
   "display_name": "Python 3 (ipykernel)",
   "language": "python",
   "name": "python3"
  },
  "language_info": {
   "codemirror_mode": {
    "name": "ipython",
    "version": 3
   },
   "file_extension": ".py",
   "mimetype": "text/x-python",
   "name": "python",
   "nbconvert_exporter": "python",
   "pygments_lexer": "ipython3",
   "version": "3.10.11"
  }
 },
 "nbformat": 4,
 "nbformat_minor": 5
}
